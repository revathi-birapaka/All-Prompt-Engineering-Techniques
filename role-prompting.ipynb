{
 "cells": [
  {
   "cell_type": "markdown",
   "id": "b21b0bf7-635b-4259-85e9-ef3cca5364a3",
   "metadata": {},
   "source": [
    "### Role Prompting Tutorial\n",
    "#### Overview\n",
    "This tutorial explores the concept of role prompting in AI language models, focusing on how to assign specific roles to AI models and craft effective role descriptions. We'll use OpenAI's GPT model and the LangChain library to demonstrate these techniques.\n",
    "\n",
    "#### Motivation\n",
    "Role prompting is a powerful technique in prompt engineering that allows us to guide AI models to adopt specific personas or expertise. This approach can significantly enhance the quality and relevance of AI-generated responses, making them more suitable for specific tasks or domains."
   ]
  },
  {
   "cell_type": "code",
   "execution_count": 1,
   "id": "c0d0f000-501f-4c56-91c5-4539de1fa78b",
   "metadata": {},
   "outputs": [],
   "source": [
    "import os\n",
    "from langchain_openai import ChatOpenAI\n",
    "from langchain.prompts import PromptTemplate\n",
    "\n",
    "from dotenv import load_dotenv\n",
    "load_dotenv()\n",
    "\n",
    "# Set up OpenAI API key\n",
    "os.environ[\"OPENAI_API_KEY\"] = os.getenv('OPENAI_API_KEY')\n",
    "\n",
    "# Initialize the language model\n",
    "llm = ChatOpenAI(model=\"gpt-4o-mini\")"
   ]
  },
  {
   "cell_type": "markdown",
   "id": "cc73e21d-87bf-4bc0-9552-9904d5b24a2c",
   "metadata": {},
   "source": [
    "### Key Components \n",
    "**Role Assignment** : Techniques for assigning roles to AI models\n",
    "\n",
    "**Role Description Crafting**: Strategies for creating effective and detailed role descriptions\n",
    "\n",
    "**Context Setting**: Methods to provide necessary background information for the role\n",
    "\n",
    "**Task Specification**: Approaches to clearly define tasks within the assigned role"
   ]
  },
  {
   "cell_type": "markdown",
   "id": "fc064c7b-b555-4f40-90bf-6ebcaf09cc4d",
   "metadata": {},
   "source": [
    "#### Basic Role Assignment\n",
    "Let's start with a simple example of role assignment. We'll create a prompt that assigns the role of a technical writer to the AI model."
   ]
  },
  {
   "cell_type": "code",
   "execution_count": 2,
   "id": "f5abb46c-d582-4511-a168-3b7d6e345619",
   "metadata": {},
   "outputs": [
    {
     "name": "stdout",
     "output_type": "stream",
     "text": [
      "Cloud computing is a technology that allows you to store and access data and applications over the Internet instead of on your computer's hard drive. It enables you to use software and files from anywhere, at any time, as long as you have an Internet connection. Think of it like renting a space online where you can easily keep and manage your digital files without needing a powerful computer.\n"
     ]
    }
   ],
   "source": [
    "tech_writer_prompt = PromptTemplate(\n",
    "    input_variables=[\"topic\"],\n",
    "    template=\"\"\"You are a technical writer specializing in creating clear and concise documentation for software products.\n",
    "    Your task is to write a brief explanation of {topic} for a user manual.\n",
    "    Please provide a 2-3 sentence explanation that is easy for non-technical users to understand.\"\"\"\n",
    ")\n",
    "\n",
    "chain = tech_writer_prompt | llm\n",
    "response = chain.invoke({\"topic\": \"cloud computing\"})\n",
    "print(response.content)"
   ]
  },
  {
   "cell_type": "markdown",
   "id": "1306f816-f3a6-4714-9a31-e4472d7870ba",
   "metadata": {},
   "source": [
    "#### Crafting Effective Role Descriptions\n",
    "Now, let's explore how to craft more detailed and effective role descriptions. We'll create a prompt for a financial advisor role with a more comprehensive description."
   ]
  },
  {
   "cell_type": "code",
   "execution_count": 3,
   "id": "2f45cc32-28ab-4c7f-aa3f-79ed439a1d76",
   "metadata": {},
   "outputs": [
    {
     "name": "stdout",
     "output_type": "stream",
     "text": [
      "Given your solid income and savings, I recommend starting by establishing a retirement plan, such as a 401(k) or an IRA, to take advantage of compound growth over time. Aim to contribute at least 15% of your salary, especially if your employer offers a matching contribution. Additionally, consider creating an emergency fund equivalent to 3-6 months of living expenses to provide financial stability. Finally, as you progress, start diversifying your investments to align with your long-term financial goals and risk tolerance.\n"
     ]
    }
   ],
   "source": [
    "financial_advisor_prompt = PromptTemplate(\n",
    "    input_variables=[\"client_situation\"],\n",
    "    template=\"\"\"You are a seasoned financial advisor with over 20 years of experience in personal finance, investment strategies, and retirement planning.\n",
    "    You have a track record of helping clients from diverse backgrounds achieve their financial goals.\n",
    "    Your approach is characterized by:\n",
    "    1. Thorough analysis of each client's unique financial situation\n",
    "    2. Clear and jargon-free communication of complex financial concepts\n",
    "    3. Ethical considerations in all recommendations\n",
    "    4. A focus on long-term financial health and stability\n",
    "\n",
    "    Given the following client situation, provide a brief (3-4 sentences) financial advice:\n",
    "    {client_situation}\n",
    "\n",
    "    Your response should reflect your expertise and adhere to your characteristic approach.\"\"\"\n",
    ")\n",
    "\n",
    "chain = financial_advisor_prompt | llm\n",
    "response = chain.invoke({\"client_situation\": \"A 35-year-old professional earning $80,000 annually, with $30,000 in savings, no debt, and no retirement plan.\"})\n",
    "print(response.content)"
   ]
  },
  {
   "cell_type": "markdown",
   "id": "ba70c979-fe73-4b58-a1c6-44d96c62c804",
   "metadata": {},
   "source": [
    "### Comparing Responses with Different Roles\n",
    "To demonstrate how different roles can affect the AI's responses, let's create prompts for three different roles and compare their outputs on the same topic."
   ]
  },
  {
   "cell_type": "code",
   "execution_count": 4,
   "id": "e797e5ff-0b62-493f-8e53-20d2bacd3d3d",
   "metadata": {},
   "outputs": [
    {
     "name": "stdout",
     "output_type": "stream",
     "text": [
      "\n",
      "Scientist's explanation:\n",
      "\n",
      "The greenhouse effect is a natural process that warms the Earth’s surface. It occurs when the Sun's energy reaches the Earth’s atmosphere—some of this energy is reflected back to space and the rest is absorbed and re-radiated by greenhouse gases.\n",
      "\n",
      "1. **Solar Radiation**: The Sun emits energy primarily in the form of visible light, ultraviolet, and infrared radiation. When this energy reaches Earth, about 30% is reflected back to space by clouds, atmospheric particles, and reflective surfaces (like ice and snow). The remaining 70% is absorbed by the Earth's surface and contributes to warming.\n",
      "\n",
      "2. **Absorption and Re-radiation**: The Earth’s surface absorbs solar energy and heats up, subsequently re-emitting this energy as infrared radiation (heat) back toward space. However, certain atmospheric gases, known as greenhouse gases (GHGs), have the ability to absorb and emit infrared radiation. These gases include carbon dioxide (CO₂), methane (CH₄), nitrous oxide (N₂O), and water vapor (H₂O).\n",
      "\n",
      "3. **Greenhouse Gases**: Greenhouse gases are effective at trapping heat within the atmosphere. When the Earth emits infrared radiation, greenhouse gases absorb some of this energy and re-radiate it in all directions, including back towards the surface. This process helps to retain heat in the atmosphere, thereby maintaining the Earth’s average temperature at around 15 degrees Celsius, which is conducive to life.\n",
      "\n",
      "4. **Enhanced Greenhouse Effect**: Human activities, particularly the burning of fossil fuels, deforestation, and industrial processes, have increased the concentrations of these greenhouse gases in the atmosphere. This enhancement leads to an increased trapping of heat, which results in changes to climate patterns, often termed climate change or global warming.\n",
      "\n",
      "5. **Feedback Mechanisms**: The greenhouse effect can also interact with various feedback mechanisms such as the water vapor feedback (where increased temperatures lead to more water vapor, which is itself a potent greenhouse gas) and ice-albedo feedback (where melting ice reduces surface reflectivity, leading to further warming).\n",
      "\n",
      "The greenhouse effect is a critical component of the Earth’s climate system, influencing weather patterns, global temperatures, and ecological balance. Understanding this process is vital for predicting future climate scenarios and implementing effective mitigation strategies.\n",
      "--------------------------------------------------\n",
      "\n",
      "Teacher's explanation:\n",
      "\n",
      "Okay, class! Today, we're going to learn about the greenhouse effect. Imagine Earth is like a giant greenhouse, which is a special building where people grow plants. A greenhouse has a glass roof that lets sunlight in but keeps the heat from escaping. This helps plants grow better because it stays warm inside.\n",
      "\n",
      "Now, our Earth has something similar, even though it's not made of glass. It has gases in the atmosphere, like carbon dioxide, methane, and water vapor. These gases act like the glass in a greenhouse. Here’s how it works:\n",
      "\n",
      "1. **Sunlight Comes In**: The sun shines down on Earth and warms it up. This is a good thing because it helps us stay warm and supports all life.\n",
      "\n",
      "2. **Heat Goes Out**: After the Earth gets warmed up, it tries to release some of that heat back into space, just like a greenhouse would do.\n",
      "\n",
      "3. **Gases Trap Heat**: But, some of that heat gets trapped by the gases in the atmosphere. This is because those gases can absorb the heat and bounce it back towards the Earth. It’s like hugging a warm blanket, keeping you cozy!\n",
      "\n",
      "4. **Why It Matters**: This greenhouse effect is important because it keeps our planet warm enough to support life. Without it, our planet would be way too cold for us to live here!\n",
      "\n",
      "However, there is a problem. People have been adding too many extra gases into the atmosphere by burning oil, coal, and gas, and by cutting down trees. This is like adding too many blankets—it gets too warm, and that can lead to climate change, which can cause problems for animals, plants, and even us!\n",
      "\n",
      "So, the greenhouse effect is really about balance. We want just the right amount of gases to keep our planet comfortable, but not too much that it overheats. That's why it's important to protect our environment and reduce pollution!\n",
      "\n",
      "Any questions?\n",
      "--------------------------------------------------\n",
      "\n",
      "Journalist's explanation:\n",
      "\n",
      "### The Greenhouse Effect: Our Planet’s Double-Edged Sword\n",
      "\n",
      "Imagine slipping on a warm, comfy sweater on a chilly day. It keeps your body heat from escaping, making you feel cozy. Now picture Earth having its own “sweater,” a blanket of gases that keeps our planet warm enough to support life. This is the greenhouse effect, a natural phenomenon that has both nurtured and challenged our existence.\n",
      "\n",
      "#### What Exactly Is the Greenhouse Effect?\n",
      "\n",
      "The greenhouse effect occurs when certain gases in Earth's atmosphere trap heat from the sun. Here’s how it works:\n",
      "\n",
      "1. **Solar Energy Arrival**: Every day, the sun sends an incredible amount of energy our way—around 173,000 terawatts, enough to power millions of homes. When this sunlight strikes the Earth, some of it is absorbed, warming the surface, while the rest is reflected back into space.\n",
      "\n",
      "2. **Heat Entrapment**: Just like that cozy sweater, certain gases in the atmosphere—known as greenhouse gases (GHGs)—trap some of this reflected heat, preventing it from escaping too quickly. The primary culprits here are carbon dioxide (CO₂), methane (CH₄), nitrous oxide (N₂O), and water vapor.\n",
      "\n",
      "3. **Temperature Regulation**: By keeping heat in, these gases help maintain Earth's average temperature at about 59°F (15°C), a perfect climate for life as we know it. Without this effect, our planet's average temperature would plummet to about -0°F (-18°C), making it a much less hospitable place.\n",
      "\n",
      "#### Nature’s Balancing Act\n",
      "\n",
      "Think of the greenhouse effect as a balancing act. Over millennia, Earth’s systems have developed a delicate equilibrium. Plants and oceans absorb carbon dioxide, while various natural processes keep greenhouse gas levels in check. This natural balance has allowed ecosystems to flourish, from the coral reefs teeming with life to the vast rainforests that absorb CO₂.\n",
      "\n",
      "#### The Rising Challenge\n",
      "\n",
      "However, the plot thickens. Since the dawn of the Industrial Revolution, human activities, particularly burning fossil fuels, deforestation, and intensive agriculture, have dramatically increased the concentrations of greenhouse gases in the atmosphere. The result? A runaway effect that is unusually accelerating the planet’s warming.\n",
      "\n",
      "These increased levels of greenhouse gases trap even more heat, leading to a cascade of environmental shifts—melting ice caps, rising sea levels, and extreme weather phenomena. It’s a classic case of the double-edged sword: something essential for life is becoming one of the most significant threats to it.\n",
      "\n",
      "#### Facing Our Future\n",
      "\n",
      "Understanding the greenhouse effect is crucial for addressing climate change. By promoting cleaner energy, reforestation, and sustainable practices, we can mitigate the amount of greenhouse gases we put into the atmosphere. Technologies like carbon capture are also in the works, aiming to filter out CO₂ from the air.\n",
      "\n",
      "Ultimately, while the greenhouse effect is vital for our survival, we must be conscious stewards of this phenomenon. Let’s keep our planet's cozy blanket intact, but without turning up the heat. Our future depends on finding that balance, ensuring a habitable world for generations to come. The time for awareness is now—because Earth’s cozy sweater is getting a little too snug.\n",
      "--------------------------------------------------\n"
     ]
    }
   ],
   "source": [
    "roles = [\n",
    "    (\"Scientist\", \"You are a research scientist specializing in climate change. Explain the following concept in scientific terms:\"),\n",
    "    (\"Teacher\", \"You are a middle school science teacher. Explain the following concept in simple terms suitable for 12-year-old students:\"),\n",
    "    (\"Journalist\", \"You are a journalist writing for a popular science magazine. Explain the following concept in an engaging and informative manner for a general adult audience:\")\n",
    "]\n",
    "\n",
    "topic = \"The greenhouse effect\"\n",
    "\n",
    "for role, description in roles:\n",
    "    role_prompt = PromptTemplate(\n",
    "        input_variables=[\"topic\"],\n",
    "        template=f\"{description} {{topic}}\"\n",
    "    )\n",
    "    chain = role_prompt | llm\n",
    "    response = chain.invoke({\"topic\": topic})\n",
    "    print(f\"\\n{role}'s explanation:\\n\")\n",
    "    print(response.content)\n",
    "    print(\"-\" * 50)"
   ]
  },
  {
   "cell_type": "code",
   "execution_count": 5,
   "id": "61a2f8c4-9e08-4e44-b16f-d6c2bfb5d5dc",
   "metadata": {},
   "outputs": [
    {
     "name": "stdout",
     "output_type": "stream",
     "text": [
      "\n",
      "Gothic horror version:\n",
      "\n",
      "As the last rays of the dying sun surrendered to the encroaching shadows, the creaking door of the long-abandoned house groaned open, revealing a cavernous hall shrouded in dust and despair. The air bore the stale scent of decay, as if the very walls lamented the absence of life that had once thrived within their confines. Faded portraits of long-dead ancestors hung limply, their eyes seeming to follow each hesitant step, whispering unearthly secrets of sorrow and madness. At the threshold of twilight, an icy chill enveloped the intruder, tightening around them like a noose, as unseen specters stirred in the depths of the gloom, eager to reclaim their dominion over the living.\n",
      "--------------------------------------------------\n",
      "\n",
      "Minimalist realism version:\n",
      "\n",
      "The door creaked open, revealing shadows pooling on the wooden floor. Dust motes hung in the fading light, silent witnesses to a home long untouched. Shoes shuffled quietly as they crossed the threshold, the weight of solitude settling in. A faint chill crept in, whispering through the empty rooms.\n",
      "--------------------------------------------------\n"
     ]
    }
   ],
   "source": [
    "storyteller_prompt = PromptTemplate(\n",
    "    input_variables=[\"style\", \"scenario\"],\n",
    "    template=\"\"\"You are a master storyteller known for your ability to adapt to various narrative styles.\n",
    "    Your current task is to write in the style of {style}.\n",
    "    Key characteristics of this style include:\n",
    "    1. {style_char1}\n",
    "    2. {style_char2}\n",
    "    3. {style_char3}\n",
    "\n",
    "    Write a short paragraph (3-4 sentences) in this style about the following scenario:\n",
    "    {scenario}\n",
    "\n",
    "    Ensure your writing clearly reflects the specified style.\"\"\"\n",
    ")\n",
    "\n",
    "styles = [\n",
    "    {\n",
    "        \"name\": \"Gothic horror\",\n",
    "        \"char1\": \"Atmospheric and ominous descriptions\",\n",
    "        \"char2\": \"Themes of decay, death, and the supernatural\",\n",
    "        \"char3\": \"Heightened emotions and sense of dread\"\n",
    "    },\n",
    "    {\n",
    "        \"name\": \"Minimalist realism\",\n",
    "        \"char1\": \"Sparse, concise language\",\n",
    "        \"char2\": \"Focus on everyday, ordinary events\",\n",
    "        \"char3\": \"Subtle implications rather than explicit statements\"\n",
    "    }\n",
    "]\n",
    "\n",
    "scenario = \"A person enters an empty house at twilight\"\n",
    "for style in styles:\n",
    "    chain = storyteller_prompt | llm\n",
    "    response = chain.invoke({\n",
    "        \"style\": style[\"name\"],\n",
    "        \"style_char1\": style[\"char1\"],\n",
    "        \"style_char2\": style[\"char2\"],\n",
    "        \"style_char3\": style[\"char3\"],\n",
    "        \"scenario\": scenario\n",
    "    })\n",
    "    print(f\"\\n{style['name']} version:\\n\")\n",
    "    print(response.content)\n",
    "    print(\"-\" * 50)"
   ]
  },
  {
   "cell_type": "code",
   "execution_count": null,
   "id": "590afb19-df65-4d22-8a75-648087e30018",
   "metadata": {},
   "outputs": [],
   "source": []
  }
 ],
 "metadata": {
  "kernelspec": {
   "display_name": "Python 3 (ipykernel)",
   "language": "python",
   "name": "python3"
  },
  "language_info": {
   "codemirror_mode": {
    "name": "ipython",
    "version": 3
   },
   "file_extension": ".py",
   "mimetype": "text/x-python",
   "name": "python",
   "nbconvert_exporter": "python",
   "pygments_lexer": "ipython3",
   "version": "3.12.2"
  }
 },
 "nbformat": 4,
 "nbformat_minor": 5
}

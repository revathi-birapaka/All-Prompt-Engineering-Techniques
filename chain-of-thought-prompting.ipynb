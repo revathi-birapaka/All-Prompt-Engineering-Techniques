{
 "cells": [
  {
   "cell_type": "markdown",
   "id": "2947eb0b-8045-48b0-bb3a-6b86e613f57f",
   "metadata": {},
   "source": [
    "This tutorial introduces Chain of Thought (CoT) prompting, a powerful technique in prompt engineering that encourages AI models to break down complex problems into step-by-step reasoning processes. "
   ]
  },
  {
   "cell_type": "code",
   "execution_count": 1,
   "id": "e0d80f31-f8df-4b98-853d-630c3a84f4cb",
   "metadata": {},
   "outputs": [],
   "source": [
    "import os\n",
    "from dotenv import load_dotenv\n",
    "from langchain_openai import ChatOpenAI\n",
    "from langchain.prompts import PromptTemplate\n",
    "\n",
    "# Load environment variables\n",
    "load_dotenv()\n",
    "\n",
    "# Set up OpenAI API key\n",
    "os.environ[\"OPENAI_API_KEY\"] = os.getenv(\"OPENAI_API_KEY\")\n",
    "\n",
    "# Initialize the language model\n",
    "llm = ChatOpenAI(model_name=\"gpt-3.5-turbo\")"
   ]
  },
  {
   "cell_type": "markdown",
   "id": "6d2cdf69-29cb-47be-a05c-aef1c5e4075c",
   "metadata": {},
   "source": [
    "#### Basic Chain of Thought Prompting"
   ]
  },
  {
   "cell_type": "code",
   "execution_count": 2,
   "id": "08fa67f6-e34d-473d-80fb-2a4dd83dcf36",
   "metadata": {},
   "outputs": [
    {
     "name": "stdout",
     "output_type": "stream",
     "text": [
      "Standard Response:\n",
      "The average speed of the train is 60 km/h.\n",
      "\n",
      "Chain of Thought Response:\n",
      "Step 1: Calculate the speed by using the formula speed = distance/time.\n",
      "\n",
      "Step 2: Plug in the values distance = 120 km and time = 2 hours into the formula.\n",
      "\n",
      "Step 3: Speed = 120 km / 2 hours = 60 km/h.\n",
      "\n",
      "Therefore, the average speed of the train is 60 km/h.\n"
     ]
    }
   ],
   "source": [
    "# Standard prompt\n",
    "standard_prompt = PromptTemplate(\n",
    "    input_variables=[\"question\"],\n",
    "    template=\"Answer the following question concisely: {question}.\"\n",
    ")\n",
    "\n",
    "# Chain of Thought prompt\n",
    "cot_prompt = PromptTemplate(\n",
    "    input_variables=[\"question\"],\n",
    "    template=\"Answer the following question step by step concisely: {question}\"\n",
    ")\n",
    "\n",
    "# Create chains\n",
    "standard_chain = standard_prompt | llm\n",
    "cot_chain = cot_prompt | llm\n",
    "\n",
    "# Example question\n",
    "question = \"If a train travels 120 km in 2 hours, what is its average speed in km/h?\"\n",
    "\n",
    "# Get responses\n",
    "standard_response = standard_chain.invoke(question).content\n",
    "cot_response = cot_chain.invoke(question).content\n",
    "\n",
    "print(\"Standard Response:\")\n",
    "print(standard_response)\n",
    "print(\"\\nChain of Thought Response:\")\n",
    "print(cot_response)"
   ]
  },
  {
   "cell_type": "markdown",
   "id": "9aea0a8b-5572-4797-a2bb-d8751f296c6d",
   "metadata": {},
   "source": [
    "#### Advanced Chain of Thought Prompting"
   ]
  },
  {
   "cell_type": "code",
   "execution_count": 4,
   "id": "60c3e1de-a598-4f51-9f68-dc623774c7d6",
   "metadata": {},
   "outputs": [
    {
     "name": "stdout",
     "output_type": "stream",
     "text": [
      "1. We are going to calculate the average speed for the entire journey.\n",
      "\n",
      "2. Formula for average speed = total distance / total time\n",
      "\n",
      "3. First, calculate the total distance traveled: 150 km + 100 km = 250 km\n",
      "\n",
      "4. Next, calculate the total time taken for the journey:\n",
      "Time taken for the first leg of the journey = 150 km / 60 km/h = 2.5 hours\n",
      "Time taken for the second leg of the journey = 100 km / 50 km/h = 2 hours\n",
      "Total time taken for the entire journey = 2.5 hours + 2 hours = 4.5 hours\n",
      "\n",
      "5. Now, plug the values into the formula for average speed:\n",
      "Average speed = 250 km / 4.5 hours ≈ 55.56 km/h\n",
      "\n",
      "6. The average speed for the entire journey is approximately 55.56 km/h.\n"
     ]
    }
   ],
   "source": [
    "advanced_cot_prompt = PromptTemplate(\n",
    "    input_variables=[\"question\"],\n",
    "    template=\"\"\"Solve the following problem step by step. For each step:\n",
    "1. State what you're going to calculate\n",
    "2. Write the formula you'll use (if applicable)\n",
    "3. Perform the calculation\n",
    "4. Explain the result\n",
    "\n",
    "Question: {question}\n",
    "\n",
    "Solution:\"\"\"\n",
    ")\n",
    "\n",
    "advanced_cot_chain = advanced_cot_prompt | llm\n",
    "\n",
    "complex_question = \"A car travels 150 km at 60 km/h, then another 100 km at 50 km/h. What is the average speed for the entire journey?\"\n",
    "\n",
    "advanced_cot_response = advanced_cot_chain.invoke(complex_question).content\n",
    "print(advanced_cot_response)"
   ]
  },
  {
   "cell_type": "markdown",
   "id": "ecdb9c9d-df6a-4c5b-84a9-cc17f1da10d8",
   "metadata": {},
   "source": [
    "#### Comparative Analysis"
   ]
  },
  {
   "cell_type": "code",
   "execution_count": 5,
   "id": "9085ae45-ab89-4dd7-bf79-d02d10610816",
   "metadata": {},
   "outputs": [
    {
     "name": "stdout",
     "output_type": "stream",
     "text": [
      "Standard Response:\n",
      "The volume of water in the tank when it is 2/3 full can be calculated using the formula for the volume of a cylinder: V = πr^2h.\n",
      "V = 3.14159 * (1.5)^2 * 4 * (2/3) = approximately 14.1371764 cubic meters when rounded to 7 decimal places.\n",
      "Since 1000 liters = 1 cubic meter, the volume in liters is approximately 14137.1764 liters when rounded to 4 decimal places.\n",
      "Let x be the time it takes for the tank to overflow in minutes. The additional volume of water added at a rate of 10 liters per minute is 10x liters.\n",
      "The volume of water in the tank when it overflows will be 14.1371764 + 10x liters.\n",
      "This volume must equal the total volume of the tank, which is given by the formula V = πr^2h = 3.14159 * (1.5)^2 * 4 = approximately 28.2743339 cubic meters when rounded to 7 decimal places.\n",
      "Converting this to liters gives 28274.3339 liters when rounded to 4 decimal places.\n",
      "The equation to solve for x is: 14137.1764 + 10x = 28274.3339.\n",
      "Solving for x gives x ≈ 1413.31595 minutes.\n",
      "Converting to hours and minutes, x ≈ 23 hours and 33.96 minutes.\n",
      "Rounding to the nearest minute, it will take approximately 23 hours and 34 minutes for the tank to overflow.\n",
      "\n",
      "Chain of Thought Response:\n",
      "Step 1: Calculate the volume of the cylindrical water tank when it's 2/3 full.\n",
      "\n",
      "1. V = (2/3) * π * r^2 * h\n",
      "2. V = (2/3) * 3.14159 * (1.5)^2 * 4\n",
      "3. V = (2/3) * 3.14159 * 2.25 * 4\n",
      "   V = (2/3) * 3.14159 * 9\n",
      "   V = (2/3) * 28.27431\n",
      "   V = 18.84954 cubic meters\n",
      "\n",
      "Step 2: Calculate how much more water the tank can hold before overflowing.\n",
      "\n",
      "1. The tank has a total volume of 3.14159 * (1.5)^2 * 4 = 28.27431 cubic meters\n",
      "2. Amount of water needed to fill the tank = 28.27431 - 18.84954 = 9.42477 cubic meters\n",
      "\n",
      "Step 3: Convert the amount of water needed to fill the tank in liters.\n",
      "\n",
      "1. 1 cubic meter = 1000 liters\n",
      "2. 9.42477 cubic meters = 9.42477 * 1000 = 9424.77 liters\n",
      "\n",
      "Step 4: Calculate how long it will take for the tank to overflow.\n",
      "\n",
      "1. Water is being added at a rate of 10 liters per minute\n",
      "2. Time = Amount of water needed to fill the tank / Rate of water addition\n",
      "3. Time = 9424.77 liters / 10 liters per minute\n",
      "   Time = 942.477 minutes\n",
      "\n",
      "Step 5: Convert the time from minutes to hours and minutes.\n",
      "\n",
      "1. 1 hour = 60 minutes\n",
      "2. Time duration in hours = 942.477 / 60 = 15.707 hours\n",
      "\n",
      "Rounded to the nearest minute, it will take approximately 16 hours for the tank to overflow.\n"
     ]
    }
   ],
   "source": [
    "challenging_question = \"\"\"\n",
    "A cylindrical water tank with a radius of 1.5 meters and a height of 4 meters is 2/3 full. \n",
    "If water is being added at a rate of 10 liters per minute, how long will it take for the tank to overflow? \n",
    "Give your answer in hours and minutes, rounded to the nearest minute. \n",
    "(Use 3.14159 for π and 1000 liters = 1 cubic meter)\"\"\"\n",
    "\n",
    "standard_response = standard_chain.invoke(challenging_question).content\n",
    "cot_response = advanced_cot_chain.invoke(challenging_question).content\n",
    "\n",
    "print(\"Standard Response:\")\n",
    "print(standard_response)\n",
    "print(\"\\nChain of Thought Response:\")\n",
    "print(cot_response)"
   ]
  },
  {
   "cell_type": "markdown",
   "id": "59b1629d-d8e9-4cfb-a6d5-14a5b39fff1b",
   "metadata": {},
   "source": [
    "#### Problem-Solving"
   ]
  },
  {
   "cell_type": "code",
   "execution_count": null,
   "id": "97bea91e-e5af-484b-bf70-cb22bad3a26e",
   "metadata": {},
   "outputs": [],
   "source": []
  }
 ],
 "metadata": {
  "kernelspec": {
   "display_name": "Python 3 (ipykernel)",
   "language": "python",
   "name": "python3"
  },
  "language_info": {
   "codemirror_mode": {
    "name": "ipython",
    "version": 3
   },
   "file_extension": ".py",
   "mimetype": "text/x-python",
   "name": "python",
   "nbconvert_exporter": "python",
   "pygments_lexer": "ipython3",
   "version": "3.12.2"
  }
 },
 "nbformat": 4,
 "nbformat_minor": 5
}

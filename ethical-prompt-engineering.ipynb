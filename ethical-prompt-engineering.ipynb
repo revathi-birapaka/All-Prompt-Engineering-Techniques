{
 "cells": [
  {
   "cell_type": "markdown",
   "id": "e5ef0052-2057-4d09-9dbd-037fc07f5ec3",
   "metadata": {},
   "source": [
    "#### Overview\n",
    "This tutorial explores the ethical dimensions of prompt engineering, focusing on two critical aspects: avoiding biases in prompts and creating inclusive and fair prompts. As AI language models become increasingly integrated into various applications, ensuring ethical use becomes paramount.\n",
    "\n",
    "#### Motivation\n",
    "AI language models, trained on vast amounts of data, can inadvertently perpetuate or amplify existing biases. Prompt engineers play a crucial role in mitigating these biases and promoting fairness. This tutorial aims to equip learners with the knowledge and tools to create more ethical and inclusive prompts.\n",
    "\n",
    "#### Method Details\n",
    "This tutorial employs a combination of theoretical explanations and practical demonstrations:\n",
    "\n",
    "We begin by setting up the necessary environment, including the OpenAI API and LangChain library.\n",
    "We explore common types of biases in AI and how they can manifest in prompts.\n",
    "Through examples, we demonstrate how to identify and mitigate biases in prompts.\n",
    "We introduce techniques for creating inclusive prompts that consider diverse perspectives.\n",
    "We implement methods to evaluate the fairness of AI-generated outputs.\n",
    "Throughout the tutorial, we provide exercises for hands-on learning and application of ethical prompt engineering principles."
   ]
  },
  {
   "cell_type": "code",
   "execution_count": 1,
   "id": "21796639-ec0f-4541-83cd-bfb005ed2de9",
   "metadata": {},
   "outputs": [],
   "source": [
    "import os\n",
    "from langchain_openai import ChatOpenAI\n",
    "from langchain.prompts import PromptTemplate\n",
    "\n",
    "from dotenv import load_dotenv\n",
    "load_dotenv()\n",
    "\n",
    "# Set up OpenAI API key\n",
    "os.environ[\"OPENAI_API_KEY\"] = os.getenv('OPENAI_API_KEY')\n",
    "\n",
    "# Initialize the language model\n",
    "llm = ChatOpenAI(model=\"gpt-3.5-turbo\")\n",
    "\n",
    "def get_model_response(prompt):\n",
    "    \"\"\"Helper function to get model response.\"\"\"\n",
    "    return llm.invoke(prompt).content"
   ]
  },
  {
   "cell_type": "markdown",
   "id": "cbd281ba-3e3f-4e9c-84be-73ac5a4bae66",
   "metadata": {},
   "source": [
    "#### Biases in AI"
   ]
  },
  {
   "cell_type": "code",
   "execution_count": 2,
   "id": "603adfbf-9131-49b3-8897-72cd48c443c9",
   "metadata": {},
   "outputs": [
    {
     "name": "stdout",
     "output_type": "stream",
     "text": [
      "Potentially biased response:\n",
      "A typical programmer is someone who is highly analytical, detail-oriented, and logical. They are skilled in problem-solving and have a strong understanding of computer languages and algorithms. They are often introverted and enjoy working independently, spending long hours coding and debugging programs. They possess a passion for technology and are constantly learning and adapting to new developments in the field. They may also have a quirky sense of humor and enjoy discussing and debating technical topics with their peers.\n"
     ]
    }
   ],
   "source": [
    "biased_prompt = \"Describe a typical programmer.\"\n",
    "biased_response = get_model_response(biased_prompt)\n",
    "print(\"Potentially biased response:\")\n",
    "print(biased_response)"
   ]
  },
  {
   "cell_type": "markdown",
   "id": "7caa8305-c40f-4393-be53-60a30b18ff7f",
   "metadata": {},
   "source": [
    "#### Identifying and Mitigating Biases"
   ]
  },
  {
   "cell_type": "code",
   "execution_count": 3,
   "id": "0a61d5df-f988-4594-a13d-cf3d276f57d2",
   "metadata": {},
   "outputs": [
    {
     "name": "stdout",
     "output_type": "stream",
     "text": [
      "More inclusive response:\n",
      "Computer programmers come from a wide range of backgrounds, experiences, and characteristics. Some may have formal education in computer science or related fields, while others may have learned programming through online courses, bootcamps, or self-teaching. \n",
      "\n",
      "There are individuals who have been coding since they were kids, while others may have transitioned into programming from a completely different career. Some programmers may have a deep passion for technology and coding, while others may see programming as a means to an end in pursuing other interests or career goals.\n",
      "\n",
      "Programmers also come from diverse cultural and ethnic backgrounds, bringing unique perspectives and experiences to their work. They may work in a variety of industries, from tech companies to healthcare, finance, and beyond. \n",
      "\n",
      "In terms of characteristics, programmers may range from introverted individuals who thrive in solitude while coding to more extroverted individuals who enjoy collaborating with others in a team environment. They may be highly analytical and detail-oriented, or possess strong creative and problem-solving skills. \n",
      "\n",
      "Overall, the diversity among computer programmers makes this field rich and dynamic, allowing for a wide range of perspectives and experiences to contribute to the innovation and development of technology.\n"
     ]
    }
   ],
   "source": [
    "inclusive_prompt = PromptTemplate(\n",
    "    input_variables=[\"profession\"],\n",
    "    template=\"Describe the diverse range of individuals who work as {profession}, emphasizing the variety in their backgrounds, experiences, and characteristics.\"\n",
    ")\n",
    "\n",
    "inclusive_response = (inclusive_prompt | llm).invoke({\"profession\": \"computer programmers\"}).content\n",
    "print(\"More inclusive response:\")\n",
    "print(inclusive_response)"
   ]
  },
  {
   "cell_type": "code",
   "execution_count": 4,
   "id": "65262013-7a13-454d-bc48-512e40cf8953",
   "metadata": {},
   "outputs": [
    {
     "name": "stdout",
     "output_type": "stream",
     "text": [
      "Inclusive perspective on leadership:\n",
      "Leadership is a complex and multifaceted concept that can be understood and practiced in a variety of ways across different contexts and cultures. It is important to recognize that there is not a one-size-fits-all approach to leadership, and that effective leadership can take many forms.\n",
      "\n",
      "In Western societies, leadership is often associated with qualities such as charisma, assertiveness, and decisiveness. Leaders are expected to be strong, confident, and able to make tough decisions for the good of the group or organization. This style of leadership, often referred to as \"transactional leadership,\" can be effective in certain situations, such as in times of crisis or when quick action is needed.\n",
      "\n",
      "However, it is also important to recognize the value of other leadership styles that may be more prevalent in different cultural contexts. In many Eastern cultures, for example, leadership is often more collective and consensus-driven, with a focus on building relationships, harmony, and collaboration. Leaders in these contexts may prioritize qualities such as humility, empathy, and listening skills. This style of leadership, known as \"transformational leadership,\" can be particularly effective in fostering trust, loyalty, and long-term success within a group or organization.\n",
      "\n",
      "In addition to cultural differences, it is also important to consider the diverse perspectives and experiences that individuals bring to leadership roles. Women, people of color, LGBTQ+ individuals, and individuals with disabilities, for example, may face unique challenges and barriers in leadership positions due to systemic discrimination and bias. It is crucial to create inclusive and equitable leadership environments that value and empower individuals from all backgrounds and identities.\n",
      "\n",
      "Ultimately, effective leadership requires a combination of self-awareness, adaptability, and a willingness to learn from and collaborate with others. By embracing diverse perspectives, experiences, and cultural contexts, leaders can cultivate a more inclusive and holistic approach to leadership that benefits both individuals and the larger community.\n",
      "\n",
      "--------------------------------------------------\n",
      "\n",
      "Inclusive perspective on family structures:\n",
      "Family structures can vary greatly across cultures and societies, and it is important to recognize and respect the diversity of family configurations that exist. In some cultures, the traditional nuclear family consisting of two parents and their biological children is the predominant model. This structure provides stability and support for children and can be a source of strength and unity for the family unit.\n",
      "\n",
      "However, it is also important to acknowledge that there are many alternative family structures that can be just as loving and supportive. Single-parent households, blended families, same-sex parent families, and extended families are all examples of family structures that may not fit the traditional mold, but can still provide a nurturing and stable environment for children.\n",
      "\n",
      "It is essential to recognize that the definition of family is not limited to biological relationships, and that families can be formed through adoption, fostering, or close friendships. These chosen families can provide the same level of love and support as biological families, and it is important to value and respect these relationships.\n",
      "\n",
      "It is also important to consider the impact of cultural norms and expectations on family structures. In some cultures, the concept of family extends beyond blood relations to include close friends and community members. This interconnectedness can provide a strong support system for individuals and contribute to a sense of belonging and security.\n",
      "\n",
      "Overall, it is important to approach family structures with an open mind and a willingness to understand and respect the diverse range of experiences and viewpoints that exist. By recognizing and valuing the different ways that families can be formed and function, we can create a more inclusive and supportive society for all individuals and families.\n",
      "\n",
      "--------------------------------------------------\n",
      "\n",
      "Inclusive perspective on beauty standards:\n",
      "Beauty standards are often shaped by societal norms, media representations, and cultural influences. These standards can vary greatly across different cultures and can have a significant impact on individuals' self-esteem and sense of worth.\n",
      "\n",
      "In many Western societies, there is a predominant ideal of beauty that often includes features such as thinness, youthfulness, and symmetry. This can lead to feelings of inadequacy and pressure to conform to these standards. However, it is important to recognize that beauty is subjective and can manifest in many different forms.\n",
      "\n",
      "In other cultures, different beauty standards may prioritize aspects such as fuller figures, darker skin tones, or unique facial features. It is crucial to acknowledge and celebrate this diversity in beauty ideals, as it reflects the richness of human experiences and perspectives.\n",
      "\n",
      "It is also important to recognize that beauty comes in all shapes, sizes, and colors. Embracing diversity and promoting inclusivity in beauty standards can help individuals feel empowered and confident in their own uniqueness.\n",
      "\n",
      "Ultimately, beauty standards are a social construct that can evolve over time and vary across different contexts. By embracing diverse perspectives and experiences, we can challenge narrow beauty ideals and promote a more inclusive and acceptance-oriented approach to beauty.\n",
      "\n",
      "--------------------------------------------------\n",
      "\n"
     ]
    }
   ],
   "source": [
    "def create_inclusive_prompt(topic):\n",
    "    \"\"\"Creates an inclusive prompt template for a given topic.\"\"\"\n",
    "    return PromptTemplate(\n",
    "        input_variables=[\"topic\"],\n",
    "        template=\"Provide a balanced and inclusive perspective on {topic}, considering diverse viewpoints, experiences, and cultural contexts.\"\n",
    "    )\n",
    "\n",
    "topics = [\"leadership\", \"family structures\", \"beauty standards\"]\n",
    "\n",
    "for topic in topics:\n",
    "    prompt = create_inclusive_prompt(topic)\n",
    "    response = (prompt | llm).invoke({\"topic\": topic}).content\n",
    "    print(f\"Inclusive perspective on {topic}:\")\n",
    "    print(response)\n",
    "    print(\"\\n\" + \"-\"*50 + \"\\n\")"
   ]
  },
  {
   "cell_type": "markdown",
   "id": "1ff04e6b-fade-4eda-9cd8-cc34c74d04e2",
   "metadata": {},
   "source": [
    "#### Evaluating Fairness in AI Generated Prompts"
   ]
  },
  {
   "cell_type": "code",
   "execution_count": 5,
   "id": "e693ad2c-ff7f-470b-a567-40dc6df57321",
   "metadata": {},
   "outputs": [
    {
     "name": "stdout",
     "output_type": "stream",
     "text": [
      "Fairness Evaluation:\n",
      "The text appears to have some bias towards traditional leadership qualities that may exclude individuals who have different approaches to leadership. It implies that only leaders who are decisive and command respect are strong, which may overlook the value of leaders who have different strengths or qualities.\n",
      "\n",
      "Fairness Score: 5\n"
     ]
    }
   ],
   "source": [
    "def evaluate_fairness(text):\n",
    "    \"\"\"Evaluates the fairness of a given text.\"\"\"\n",
    "    evaluation_prompt = PromptTemplate(\n",
    "        input_variables=[\"text\"],\n",
    "        template=\"Evaluate the following text for fairness and inclusivity. Identify any potential biases or exclusionary language. Provide a fairness score from 1 to 10, where 10 is most fair and inclusive:\\n\\nText: {text}\\n\\nEvaluation:\"\n",
    "    )\n",
    "    return (evaluation_prompt | llm).invoke({\"text\": text}).content\n",
    "\n",
    "# Example usage\n",
    "sample_text = \"In the corporate world, strong leaders are often characterized by their decisiveness and ability to command respect.\"\n",
    "fairness_evaluation = evaluate_fairness(sample_text)\n",
    "print(\"Fairness Evaluation:\")\n",
    "print(fairness_evaluation)"
   ]
  },
  {
   "cell_type": "code",
   "execution_count": null,
   "id": "972b1936-bf09-4cfe-81b7-8c5c019b77d7",
   "metadata": {},
   "outputs": [
    {
     "name": "stdout",
     "output_type": "stream",
     "text": [
      "Original prompt:\n",
      "Describe the ideal candidate for a high-stress executive position.\n",
      "\n",
      "Original response:\n",
      "The ideal candidate for a high-stress executive position would possess a combination of qualities and traits that enable them to thrive in demanding and fast-paced environments. \n",
      "\n",
      "First and foremost, the ideal candidate would have a strong sense of resilience and adaptability, able to stay composed and focused under pressure and navigate through challenges with a positive attitude. They would possess excellent decision-making skills, able to make timely and effective choices even in high-stakes situations.\n",
      "\n",
      "Furthermore, the ideal candidate would be highly organized and detail-oriented, with the ability to manage multiple tasks and priorities simultaneously. They would also have exceptional communication and interpersonal skills, able to lead and motivate teams, collaborate with others, and effectively communicate with stakeholders.\n",
      "\n",
      "Additionally, the ideal candidate would demonstrate a strong work ethic and drive for success, willing to go above and beyond to achieve goals and deliver results. They would also possess a high level of emotional intelligence, able to understand and manage their own emotions and effectively navigate relationships with others.\n",
      "\n",
      "Overall, the ideal candidate for a high-stress executive position would be a strategic thinker, a skilled communicator, a strong leader, and possess the ability to perform effectively under pressure.\n",
      "\n",
      "Improved prompt:\n",
      "Describe a range of qualities and skills that could make someone successful in a high-stress executive position, considering diverse backgrounds, experiences, and leadership styles. Emphasize the importance of work-life balance and mental health.\n",
      "\n",
      "Improved response:\n"
     ]
    }
   ],
   "source": [
    "biased_prompt = \"Describe the ideal candidate for a high-stress executive position.\"\n",
    "\n",
    "print(\"Original prompt:\")\n",
    "print(biased_prompt)\n",
    "print(\"\\nOriginal response:\")\n",
    "print(get_model_response(biased_prompt))\n",
    "\n",
    "# TODO: Improve this prompt to be more inclusive and fair\n",
    "improved_prompt = PromptTemplate(\n",
    "    input_variables=[\"position\"],\n",
    "    template=\"Describe a range of qualities and skills that could make someone successful in a {position}, considering diverse backgrounds, experiences, and leadership styles. Emphasize the importance of work-life balance and mental health.\"\n",
    ")\n",
    "\n",
    "print(\"\\nImproved prompt:\")\n",
    "print(improved_prompt.format(position=\"high-stress executive position\"))\n",
    "print(\"\\nImproved response:\")\n",
    "print((improved_prompt | llm).invoke({\"position\": \"high-stress executive position\"}).content)\n",
    "\n",
    "# Evaluate the fairness of the improved response\n",
    "fairness_score = evaluate_fairness((improved_prompt | llm).invoke({\"position\": \"high-stress executive position\"}).content)\n",
    "print(\"\\nFairness evaluation of improved response:\")\n",
    "print(fairness_score)"
   ]
  },
  {
   "cell_type": "code",
   "execution_count": null,
   "id": "704002bd-da8f-4ec5-8916-92f0c2d362b5",
   "metadata": {},
   "outputs": [],
   "source": []
  }
 ],
 "metadata": {
  "kernelspec": {
   "display_name": "Python 3 (ipykernel)",
   "language": "python",
   "name": "python3"
  },
  "language_info": {
   "codemirror_mode": {
    "name": "ipython",
    "version": 3
   },
   "file_extension": ".py",
   "mimetype": "text/x-python",
   "name": "python",
   "nbconvert_exporter": "python",
   "pygments_lexer": "ipython3",
   "version": "3.12.2"
  }
 },
 "nbformat": 4,
 "nbformat_minor": 5
}

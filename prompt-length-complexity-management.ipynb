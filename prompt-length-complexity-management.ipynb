{
 "cells": [
  {
   "cell_type": "markdown",
   "id": "9329d81a-8a8c-4a3a-8903-d65406dc0199",
   "metadata": {},
   "source": [
    "### Prompt Length and Complexity Management\n",
    "#### Overview\n",
    "This tutorial explores techniques for managing prompt length and complexity when working with large language models (LLMs). We'll focus on two key aspects: balancing detail and conciseness in prompts, and strategies for handling long contexts.\n",
    "\n",
    "#### Motivation\n",
    "Effective prompt engineering often requires finding the right balance between providing enough context for the model to understand the task and keeping prompts concise for efficiency. Additionally, many real-world applications involve processing long documents or complex multi-step tasks, which can exceed the context window of LLMs. Learning to manage these challenges is crucial for building robust AI applications."
   ]
  },
  {
   "cell_type": "code",
   "execution_count": 2,
   "id": "f5e26483-10dd-4faa-ae04-b7b30e6545bb",
   "metadata": {},
   "outputs": [
    {
     "name": "stdout",
     "output_type": "stream",
     "text": [
      "Setup complete!\n"
     ]
    }
   ],
   "source": [
    "import os\n",
    "from langchain_openai import ChatOpenAI\n",
    "from langchain.prompts import PromptTemplate\n",
    "from langchain.text_splitter import RecursiveCharacterTextSplitter\n",
    "from langchain.chains.summarize import load_summarize_chain\n",
    "\n",
    "# Load environment variables\n",
    "from dotenv import load_dotenv\n",
    "load_dotenv()\n",
    "\n",
    "# Set up OpenAI API key\n",
    "os.environ[\"OPENAI_API_KEY\"] = os.getenv('OPENAI_API_KEY')\n",
    "\n",
    "# Initialize the language model\n",
    "llm = ChatOpenAI(model=\"gpt-4o-mini\")\n",
    "\n",
    "print(\"Setup complete!\")"
   ]
  },
  {
   "cell_type": "markdown",
   "id": "89460a49-94ec-48b4-beb7-39cd6cf669c8",
   "metadata": {},
   "source": [
    "#### Balancing Detail and Conciseness"
   ]
  },
  {
   "cell_type": "code",
   "execution_count": 3,
   "id": "c62d160c-bdb3-4b4c-9528-4332af9fe319",
   "metadata": {},
   "outputs": [
    {
     "name": "stdout",
     "output_type": "stream",
     "text": [
      "Detailed response:\n",
      "### Definition of Artificial Intelligence (AI)\n",
      "\n",
      "Artificial Intelligence (AI) refers to the simulation of human intelligence processes by machines, particularly computer systems. These processes include learning (the acquisition of information and rules for using it), reasoning (the use of rules to reach approximate or definite conclusions), problem-solving, perception, and language understanding. Essentially, AI enables machines to perform tasks that typically require human intelligence.\n",
      "\n",
      "### Historical Context\n",
      "\n",
      "The concept of AI dates back to ancient myths and stories about intelligent automatons, but formal developments began in the mid-20th century. Key milestones include:\n",
      "\n",
      "1. **The Dartmouth Conference (1956)**: Often credited as the birthplace of AI as a field, organized by John McCarthy, Marvin Minsky, Nathaniel Rochester, and Claude Shannon. It aimed to explore whether machines could simulate any aspect of human intelligence.\n",
      "\n",
      "2. **The Early Years**: The initial years saw rapid progress with programs like \"Logic Theorist\" (1955) and \"General Problem Solver\" (1957), developed by Allen Newell and Herbert Simon.\n",
      "\n",
      "3. **The AI Winters**: During the 1970s and later in the 1980s, interest and funding in AI saw significant declines, known as “AI Winters,” due to unmet promises and limitations of existing technology.\n",
      "\n",
      "4. **Renewed Interest**: In the 1990s and early 2000s, AI underwent a renaissance thanks to advancements in algorithms, increases in computational power, and the availability of large datasets (Big Data). This period marked the rise of machine learning, particularly deep learning.\n",
      "\n",
      "5. **Recent Developments**: The 2010s ushered in powerful AI tools (e.g., Google’s AlphaGo) and applications in various domains. Today, AI is integral to technology and society, with ongoing research continuously pushing the boundaries.\n",
      "\n",
      "### Key Components of AI\n",
      "\n",
      "1. **Machine Learning (ML)**: A subset of AI that enables computers to learn from data and improve their performance over time without being explicitly programmed. Popular techniques include supervised learning, unsupervised learning, and reinforcement learning.\n",
      "\n",
      "2. **Natural Language Processing (NLP)**: The ability of machines to understand and respond to human language. Applications include chatbots, language translation, and sentiment analysis.\n",
      "\n",
      "3. **Computer Vision**: Enables machines to interpret and understand visual information from the world. Applications include facial recognition, autonomous vehicles, and augmented reality.\n",
      "\n",
      "4. **Robotics**: AI-driven robotics combines mechanical engineering and AI to create machines capable of performing tasks autonomously or semi-autonomously.\n",
      "\n",
      "5. **Expert Systems**: AI systems that mimic the decision-making ability of human experts. These systems utilize rule-based logic to solve specific problems in domains such as medicine, finance, and troubleshooting.\n",
      "\n",
      "### Practical Applications\n",
      "\n",
      "- **Healthcare**: AI is used for predictive analytics, diagnosis, personalized treatment plans, and drug discovery.\n",
      "- **Finance**: Algorithms analyze market trends, assess risks, and automate trading strategies.\n",
      "- **Transport**: Autonomous vehicles and traffic management solutions use AI to improve safety and efficiency.\n",
      "- **Customer Service**: AI chatbots enhance customer experience, providing instant support and services.\n",
      "- **Entertainment**: Recommendation systems in streaming services (Netflix, Spotify) use AI to suggest content based on user preferences.\n",
      "- **Manufacturing**: Predictive maintenance and quality control applications improve efficiency and reduce costs.\n",
      "\n",
      "### Controversies and Debates\n",
      "\n",
      "1. **Ethics and Bias**: AI systems can inadvertently perpetuate biases present in training data, leading to unfair outcomes, especially in sensitive areas like hiring, policing, and lending.\n",
      "2. **Privacy Concerns**: The deployment of AI in surveillance and data collection poses significant risks to individual privacy and civil liberties.\n",
      "3. **Job Displacement**: Automation powered by AI raises concerns about job loss and the future of work, prompting debates about the need for reskilling and potential economic inequality.\n",
      "4. **Autonomous Weapons**: The use of AI in military applications raises moral and ethical questions about autonomous decision-making in warfare.\n",
      "5. **AI Safety**: As AI systems gain more capabilities, ensuring their safety and alignment with human values becomes crucial to prevent unintended consequences.\n",
      "\n",
      "### Future Developments and Trends\n",
      "\n",
      "1. **General AI**: While current AI applications are mostly narrow-focused, researchers are exploring the development of Artificial General Intelligence (AGI), which would possess the cognitive abilities comparable to humans across diverse tasks.\n",
      "\n",
      "2. **Explainable AI (XAI)**: There is a growing emphasis on making AI systems more transparent and understandable, particularly in fields like healthcare and finance.\n",
      "\n",
      "3. **Integration with IoT**: As the Internet of Things (IoT) expands, AI is expected to enable smarter auto-systems and edge computing applications by processing data closer to where it is generated.\n",
      "\n",
      "4. **Regulation and Governance**: Governments and organizations are increasingly focusing on creating frameworks to regulate AI development and deployment effectively, aimed at mitigating risks while encouraging innovation.\n",
      "\n",
      "5. **AI in Sustainability**: AI is anticipated to play a significant role in tackling climate change and optimizing resource use, shifting from efficiency towards sustainable practices.\n",
      "\n",
      "In summary, artificial intelligence is a multifaceted field enriched with historical significance, evolving technologies, diverse applications, and ongoing debates surrounding its implications for society. Its future developments promise to revolutionize various sectors further while necessitating careful consideration of ethical, social, and economic impacts.\n",
      "\n",
      "Concise response:\n",
      "Artificial intelligence (AI) refers to the simulation of human intelligence processes by computer systems, enabling machines to perform tasks that typically require human-like reasoning, learning, decision-making, and problem-solving. AI encompasses various technologies, including machine learning, natural language processing, computer vision, and robotics.\n",
      "\n",
      "The main importance of AI lies in its ability to enhance efficiency, accuracy, and productivity across various sectors. It aids in data analysis, automates routine tasks, improves decision-making through predictive analytics, and enables personalized experiences. AI also drives innovation in fields such as healthcare, finance, transportation, and manufacturing, ultimately leading to improved quality of life and economic growth.\n"
     ]
    }
   ],
   "source": [
    "# Detailed prompt\n",
    "detailed_prompt = PromptTemplate(\n",
    "    input_variables=[\"topic\"],\n",
    "    template=\"\"\"Please provide a comprehensive explanation of {topic}. Include its definition, \n",
    "    historical context, key components, practical applications, and any relevant examples. \n",
    "    Also, discuss any controversies or debates surrounding the topic, and mention potential \n",
    "    future developments or trends.\"\"\"\n",
    ")\n",
    "\n",
    "# Concise prompt\n",
    "concise_prompt = PromptTemplate(\n",
    "    input_variables=[\"topic\"],\n",
    "    template=\"Briefly explain {topic} and its main importance.\"\n",
    ")\n",
    "\n",
    "topic = \"artificial intelligence\"\n",
    "\n",
    "print(\"Detailed response:\")\n",
    "print(llm.invoke(detailed_prompt.format(topic=topic)).content)\n",
    "\n",
    "print(\"\\nConcise response:\")\n",
    "print(llm.invoke(concise_prompt.format(topic=topic)).content)"
   ]
  },
  {
   "cell_type": "markdown",
   "id": "c3ec742c-6048-4bea-abfe-f9dd4eb62655",
   "metadata": {},
   "source": [
    "#### Analysis of Prompt Balance"
   ]
  },
  {
   "cell_type": "code",
   "execution_count": 4,
   "id": "47fd1b58-9db6-4784-a3b8-d49c39f65305",
   "metadata": {},
   "outputs": [
    {
     "name": "stdout",
     "output_type": "stream",
     "text": [
      "### Analysis of Differences\n",
      "\n",
      "1. **Information Coverage**:\n",
      "   - **Detailed Response**: This response is comprehensive, covering a wide range of topics related to AI, including its definition, historical context, key components, practical applications, ethical controversies, and future trends. The response provides in-depth insights into the evolution of AI, important figures, and specific applications across various industries, making it valuable for those seeking a thorough understanding of the field.\n",
      "   - **Concise Response**: The concise response presents a high-level overview of AI without delving into specifics. It encapsulates the essence of AI, mentions core technologies, and highlights the importance of AI in improving efficiency and decision-making. However, it lacks detailed historical context, specific use cases, ethical concerns, and future developments.\n",
      "\n",
      "2. **Clarity and Focus**:\n",
      "   - **Detailed Response**: While the detailed response is informative, it can be overwhelming for a reader seeking a quick understanding of AI. The extensive information may lead to a sense of information overload, and the structure requires careful navigation to grasp the main points.\n",
      "   - **Concise Response**: The concise response excels in clarity by presenting information in a straightforward manner. It maintains focus on the definition and importance of AI while avoiding excessive technical jargon, making it accessible to a broader audience. However, the lack of depth could leave some readers wanting more context or examples.\n",
      "\n",
      "3. **Potential Use Cases for Each Type of Response**:\n",
      "   - **Detailed Response**: This comprehensive response is suitable for academic contexts, professional training sessions, or when addressing an audience that requires a deep understanding of AI. It can be utilized in research papers, detailed presentations, or discussions that hinge on historical development and ethical implications of AI.\n",
      "   - **Concise Response**: The concise response is ideal for situations where brevity is necessary, such as elevator pitches, introductory coursework, or as an overview in business settings. It can serve as a summary in reports or articles for general audiences, offering a quick understanding without going into intricate details.\n",
      "\n",
      "### Strategies for Balancing Detail and Conciseness in Prompts\n",
      "\n",
      "1. **Define Your Audience and Purpose**: Before crafting a prompt, clarify who the intended audience is and what you want to achieve. For a general audience, prioritize clarity and simplicity. For a specialized audience, richness in detail may be necessary.\n",
      "\n",
      "2. **Utilize Structured Outlines**: Create an outline that prioritizes key topics in descending order of importance. Include headings and subheadings to guide readers, ensuring each section contributes to the overall understanding without unnecessary elaboration in less critical areas.\n",
      "\n",
      "3. **Incorporate “Need to Know” and “Nice to Know” Distinctions**: Identify essential information that the reader must understand to fulfill their needs or address their questions (\"need to know\") and supplementary information that enhances understanding but is not critical (\"nice to know\"). This helps keep the content focused and concise.\n",
      "\n",
      "4. **Iterative Refinement**: Write a first draft with as much detail as necessary. Then, review and edit, eliminating redundancies, jargon, and excessive detail while retaining essential messages. Compare drafts with potential readers to gauge understanding and clarity.\n",
      "\n",
      "5. **Use Visual Aids and Examples**: Where appropriate, integrate bullet points, charts, or diagrams to present complex data or interrelationships compactly. A vivid example can convey much information succinctly—making the content relatable without overwhelming the reader with extensive detail.\n",
      "\n",
      "6. **Tailor Language and Terminology**: Use clear and simple language when possible. Avoid technical jargon unless it is appropriate for the audience, and provide brief explanations of necessary technical terms to maintain accessibility.\n",
      "\n",
      "By following these strategies, writers can effectively balance detail and conciseness, creating clearer and more engaging content that meets the needs of diverse audiences.\n"
     ]
    }
   ],
   "source": [
    "analysis_prompt = PromptTemplate(\n",
    "    input_variables=[\"topic\", \"detailed_response\", \"concise_response\"],\n",
    "    template=\"\"\"Compare the following two responses on {topic}:\n",
    "\n",
    "Detailed response:\n",
    "{detailed_response}\n",
    "\n",
    "Concise response:\n",
    "{concise_response}\n",
    "\n",
    "Analyze the differences in terms of:\n",
    "1. Information coverage\n",
    "2. Clarity and focus\n",
    "3. Potential use cases for each type of response\n",
    "\n",
    "Then, suggest strategies for balancing detail and conciseness in prompts.\"\"\"\n",
    ")\n",
    "\n",
    "detailed_response = llm.invoke(detailed_prompt.format(topic=topic)).content\n",
    "concise_response = llm.invoke(concise_prompt.format(topic=topic)).content\n",
    "\n",
    "analysis = llm.invoke(analysis_prompt.format(\n",
    "    topic=topic,\n",
    "    detailed_response=detailed_response,\n",
    "    concise_response=concise_response\n",
    ")).content\n",
    "\n",
    "print(analysis)"
   ]
  },
  {
   "cell_type": "markdown",
   "id": "3a09e0e1-d7be-48ca-bc72-4c74b961f086",
   "metadata": {},
   "source": [
    "### Strategies for Handling Long Contexts\n",
    "\n",
    "#### 1. Chunking\n",
    "Chunking involves breaking long texts into smaller, manageable pieces. Let's demonstrate this using a long text passage"
   ]
  },
  {
   "cell_type": "code",
   "execution_count": 1,
   "id": "9b23ff33-0ce8-4741-ae74-836524c8d274",
   "metadata": {},
   "outputs": [
    {
     "ename": "NameError",
     "evalue": "name 'RecursiveCharacterTextSplitter' is not defined",
     "output_type": "error",
     "traceback": [
      "\u001b[1;31m---------------------------------------------------------------------------\u001b[0m",
      "\u001b[1;31mNameError\u001b[0m                                 Traceback (most recent call last)",
      "Cell \u001b[1;32mIn[1], line 20\u001b[0m\n\u001b[0;32m      3\u001b[0m long_text \u001b[38;5;241m=\u001b[39m \u001b[38;5;124m\"\"\"\u001b[39m\n\u001b[0;32m      4\u001b[0m \u001b[38;5;124mArtificial intelligence (AI) is a branch of computer science that aims to create intelligent machines that can simulate human cognitive processes.\u001b[39m\n\u001b[0;32m      5\u001b[0m \u001b[38;5;124mThe field of AI has a rich history dating back to the 1950s, with key milestones such as the development of the first neural networks and expert systems.\u001b[39m\n\u001b[1;32m   (...)\u001b[0m\n\u001b[0;32m     16\u001b[0m \u001b[38;5;124mThough the future of AI is uncertain, one thing is clear: the impact of artificial intelligence will be profound and far-reaching.\u001b[39m\n\u001b[0;32m     17\u001b[0m \u001b[38;5;124m\"\"\"\u001b[39m\n\u001b[0;32m     19\u001b[0m \u001b[38;5;66;03m# Initialize the text splitter\u001b[39;00m\n\u001b[1;32m---> 20\u001b[0m text_splitter \u001b[38;5;241m=\u001b[39m \u001b[43mRecursiveCharacterTextSplitter\u001b[49m(\n\u001b[0;32m     21\u001b[0m     chunk_size\u001b[38;5;241m=\u001b[39m\u001b[38;5;241m1000\u001b[39m,\n\u001b[0;32m     22\u001b[0m     chunk_overlap\u001b[38;5;241m=\u001b[39m\u001b[38;5;241m200\u001b[39m,\n\u001b[0;32m     23\u001b[0m     length_function\u001b[38;5;241m=\u001b[39m\u001b[38;5;28mlen\u001b[39m\n\u001b[0;32m     24\u001b[0m )\n\u001b[0;32m     26\u001b[0m \u001b[38;5;66;03m# Split the text into chunks\u001b[39;00m\n\u001b[0;32m     27\u001b[0m chunks \u001b[38;5;241m=\u001b[39m text_splitter\u001b[38;5;241m.\u001b[39msplit_text(long_text)\n",
      "\u001b[1;31mNameError\u001b[0m: name 'RecursiveCharacterTextSplitter' is not defined"
     ]
    }
   ],
   "source": [
    "# [A long passage about artificial intelligence, its history, applications, and future prospects...]\n",
    "\n",
    "long_text = \"\"\"\n",
    "Artificial intelligence (AI) is a branch of computer science that aims to create intelligent machines that can simulate human cognitive processes.\n",
    "The field of AI has a rich history dating back to the 1950s, with key milestones such as the development of the first neural networks and expert systems.\n",
    "AI encompasses a wide range of subfields, including machine learning, natural language processing, computer vision, and robotics.\n",
    "Practical applications of AI include speech recognition, image classification, autonomous vehicles, and medical diagnosis.\n",
    "AI has the potential to revolutionize many industries, from healthcare and finance to transportation and entertainment.\n",
    "However, there are ongoing debates and controversies surrounding AI, such as concerns about job displacement, bias in algorithms, and the ethical implications of autonomous systems.\n",
    "Looking ahead, the future of AI holds promise for advancements in areas like explainable AI, AI ethics, and human-AI collaboration. \n",
    "The intersection of AI with other technologies like blockchain, quantum computing, and biotechnology will likely shape the future of the field.\n",
    "But as AI continues to evolve, it is essential to consider the societal impact and ethical implications of these technologies.\n",
    "One of the key challenges for AI researchers and developers is to strike a balance between innovation and responsibility, ensuring that AI benefits society as \n",
    "a whole while minimizing potential risks.\n",
    "If managed effectively, AI has the potential to transform our world in ways we can only begin to imagine.\n",
    "Though the future of AI is uncertain, one thing is clear: the impact of artificial intelligence will be profound and far-reaching.\n",
    "\"\"\"\n",
    "\n",
    "# Initialize the text splitter\n",
    "text_splitter = RecursiveCharacterTextSplitter(\n",
    "    chunk_size=1000,\n",
    "    chunk_overlap=200,\n",
    "    length_function=len\n",
    ")\n",
    "\n",
    "# Split the text into chunks\n",
    "chunks = text_splitter.split_text(long_text)\n",
    "\n",
    "print(f\"Number of chunks: {len(chunks)}\")\n",
    "print(f\"First chunk: {chunks[0][:200]}...\")"
   ]
  },
  {
   "cell_type": "markdown",
   "id": "8026f8df-ca89-4123-9921-aef8fd24ebc9",
   "metadata": {},
   "source": [
    "#### 2. Summarization\n",
    "Summarization can be used to condense long texts while retaining key information. Let's use LangChain's summarization chain to demonstrate this."
   ]
  },
  {
   "cell_type": "code",
   "execution_count": 5,
   "id": "3d3f3df9-3a14-406d-824e-5048ac491755",
   "metadata": {},
   "outputs": [
    {
     "name": "stdout",
     "output_type": "stream",
     "text": [
      "Summary:\n",
      "Artificial intelligence (AI), a branch of computer science originating in the 1950s, aims to create machines that emulate human cognitive functions. Key areas include machine learning, natural language processing, and robotics, leading to applications like speech recognition and autonomous vehicles. While AI has the potential to transform industries, it also raises concerns about job displacement, algorithmic bias, and ethical issues. Future developments may focus on explainable AI, ethical considerations, and enhancing human-AI collaboration. Balancing innovation with responsibility is essential as AI evolves, with its impact expected to be profound and far-reaching.\n"
     ]
    }
   ],
   "source": [
    "from langchain.docstore.document import Document\n",
    "\n",
    "# Convert text chunks to Document objects\n",
    "doc_chunks = [Document(page_content=chunk) for chunk in chunks]\n",
    "\n",
    "# Load the summarization chain\n",
    "chain = load_summarize_chain(llm, chain_type=\"map_reduce\")\n",
    "\n",
    "# Summarize the long text\n",
    "summary_result = chain.invoke(doc_chunks)\n",
    "\n",
    "print(\"Summary:\")\n",
    "print(summary_result['output_text'])"
   ]
  },
  {
   "cell_type": "code",
   "execution_count": null,
   "id": "64f9784f-8ec0-410c-a721-a54c8c1bdb07",
   "metadata": {},
   "outputs": [],
   "source": []
  },
  {
   "cell_type": "code",
   "execution_count": 6,
   "id": "40cb5502-808f-4496-a522-8366fbe15e53",
   "metadata": {},
   "outputs": [
    {
     "name": "stdout",
     "output_type": "stream",
     "text": [
      "Final Analysis:\n",
      "The text provides a comprehensive overview of artificial intelligence (AI), elucidating its definition, historical context, subfields, applications, and significant implications for various industries. It highlights the transformative potential of AI while addressing critical debates around issues such as job displacement, algorithmic bias, and ethical concerns. Furthermore, the text underscores the importance of responsible AI development, emphasizing the need for future innovations to consider societal impacts and ethical frameworks.\n",
      "\n",
      "**Conclusion**: The analysis indicates that a balanced and ethical approach to AI development is crucial. As AI continues to evolve, stakeholders must navigate the challenges it presents while maximizing its benefits across different sectors. Addressing ethical concerns and societal implications will be vital in ensuring that AI technologies contribute positively to society.\n"
     ]
    }
   ],
   "source": [
    "def iterative_analysis(text, steps):\n",
    "    \"\"\"\n",
    "    Perform iterative analysis on a given text.\n",
    "    \n",
    "    Args:\n",
    "    text (str): The text to analyze.\n",
    "    steps (list): List of analysis steps to perform.\n",
    "    \n",
    "    Returns:\n",
    "    str: The final analysis result.\n",
    "    \"\"\"\n",
    "    result = text\n",
    "    for step in steps:\n",
    "        prompt = PromptTemplate(\n",
    "            input_variables=[\"text\"],\n",
    "            template=f\"Analyze the following text. {step}\\n\\nText: {{text}}\\n\\nAnalysis:\"\n",
    "        )\n",
    "        result = llm.invoke(prompt.format(text=result)).content\n",
    "    return result\n",
    "\n",
    "analysis_steps = [\n",
    "    \"Identify the main topics discussed.\",\n",
    "    \"Summarize the key points for each topic.\",\n",
    "    \"Provide a brief conclusion based on the analysis.\"\n",
    "]\n",
    "\n",
    "final_analysis = iterative_analysis(long_text, analysis_steps)\n",
    "print(\"Final Analysis:\")\n",
    "print(final_analysis)"
   ]
  },
  {
   "cell_type": "code",
   "execution_count": 7,
   "id": "25d20039-469c-4958-a3c0-cb3cb10c9d05",
   "metadata": {},
   "outputs": [
    {
     "name": "stdout",
     "output_type": "stream",
     "text": [
      "Certainly! Here are five practical tips for developers working with large language models:\n",
      "\n",
      "1. **Break Down Prompts:** Divide complex tasks into smaller, more manageable subtasks. This helps the model focus on one aspect at a time, leading to clearer and more accurate responses.\n",
      "\n",
      "2. **Use Clear Instructions:** Frame prompts with explicit and straightforward language. Avoid ambiguity by specifying the desired format and length of the response to ensure the model understands your requirements.\n",
      "\n",
      "3. **Iterative Refinement:** Start with a basic prompt and iteratively refine it based on model output. Adjust wording, add context, or alter the structure to improve the quality of responses.\n",
      "\n",
      "4. **Experiment with Context:** Test variations in the context provided to the model. Including relevant background information can significantly influence the quality of the output, so find the right balance between context and prompt brevity.\n",
      "\n",
      "5. **Monitor Token Usage:** Keep track of token limits for both input and output. Trim unnecessary details and focus on essential information to maximize the effectiveness of your prompts while staying within model constraints.\n"
     ]
    }
   ],
   "source": [
    "tips_prompt = \"\"\"\n",
    "Based on the examples and strategies we've explored for managing prompt length and complexity, \n",
    "provide a list of 5 practical tips for developers working with large language models. \n",
    "Each tip should be concise and actionable.\n",
    "\"\"\"\n",
    "\n",
    "tips = llm.invoke(tips_prompt).content\n",
    "print(tips)"
   ]
  },
  {
   "cell_type": "code",
   "execution_count": null,
   "id": "04e6f66f-5914-4fd2-9598-d269b1260a09",
   "metadata": {},
   "outputs": [],
   "source": []
  }
 ],
 "metadata": {
  "kernelspec": {
   "display_name": "Python 3 (ipykernel)",
   "language": "python",
   "name": "python3"
  },
  "language_info": {
   "codemirror_mode": {
    "name": "ipython",
    "version": 3
   },
   "file_extension": ".py",
   "mimetype": "text/x-python",
   "name": "python",
   "nbconvert_exporter": "python",
   "pygments_lexer": "ipython3",
   "version": "3.12.2"
  }
 },
 "nbformat": 4,
 "nbformat_minor": 5
}

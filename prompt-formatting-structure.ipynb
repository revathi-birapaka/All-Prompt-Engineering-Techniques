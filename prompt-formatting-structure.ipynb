{
 "cells": [
  {
   "cell_type": "markdown",
   "id": "8c985b2f-f275-4ee8-9199-66f24501e4a1",
   "metadata": {},
   "source": [
    "### Prompt Formatting and Structure Tutorial\n",
    "#### Overview\n",
    "This tutorial explores various prompt formats and structural elements in prompt engineering, demonstrating their impact on AI model responses. We'll use OpenAI's GPT model and the LangChain library to experiment with different prompt structures and analyze their effectiveness.\n",
    "\n",
    "#### Motivation\n",
    "Understanding how to format and structure prompts is crucial for effective communication with AI models. Well-structured prompts can significantly improve the quality, relevance, and consistency of AI-generated responses. This tutorial aims to provide practical insights into crafting prompts that elicit desired outcomes across various use cases.\n",
    "\n",
    "#### Key Components\n",
    "Different prompt formats (Q&A, dialogue, instructions)\n",
    "\n",
    "Structural elements (headings, bullet points, numbered lists)\n",
    "\n",
    "Comparison of prompt effectiveness\n",
    "\n",
    "Best practices for prompt formatting"
   ]
  },
  {
   "cell_type": "code",
   "execution_count": 1,
   "id": "d0c3a85b-11e8-4215-95bb-4a69f3c615d5",
   "metadata": {},
   "outputs": [],
   "source": [
    "import os\n",
    "from langchain_openai import ChatOpenAI\n",
    "from langchain.prompts import PromptTemplate\n",
    "\n",
    "# Load environment variables (make sure you have a .env file with your OpenAI API key)\n",
    "from dotenv import load_dotenv\n",
    "load_dotenv()\n",
    "\n",
    "os.environ[\"OPENAI_API_KEY\"] = os.getenv('OPENAI_API_KEY')\n",
    "\n",
    "# Initialize the language model\n",
    "llm = ChatOpenAI(model=\"gpt-4o-mini\")\n",
    "\n",
    "def get_response(prompt):\n",
    "    \"\"\"Helper function to get model response and print it.\"\"\"\n",
    "    response = llm.invoke(prompt).content\n",
    "    print(response)\n",
    "    print(\"-\" * 50)\n",
    "    return response"
   ]
  },
  {
   "cell_type": "markdown",
   "id": "995b7aa2-8981-41f2-aa85-56b24384a696",
   "metadata": {},
   "source": [
    "#### 1. Question and Answer (Q&A) Format"
   ]
  },
  {
   "cell_type": "code",
   "execution_count": 2,
   "id": "d55d5d4b-a48f-47be-9ed5-920047641d73",
   "metadata": {},
   "outputs": [
    {
     "name": "stdout",
     "output_type": "stream",
     "text": [
      "Photosynthesis is a biochemical process used by green plants, algae, and some bacteria to convert light energy, usually from the sun, into chemical energy stored in glucose. During photosynthesis, these organisms capture carbon dioxide from the atmosphere and water from the soil. Using sunlight as an energy source, they transform these substrates into glucose and oxygen through a series of reactions. \n",
      "\n",
      "The overall simplified equation for photosynthesis can be represented as:\n",
      "\n",
      "\\[ 6 \\text{CO}_2 + 6 \\text{H}_2\\text{O} + \\text{light energy} \\rightarrow \\text{C}_6\\text{H}_{12}\\text{O}_6 + 6 \\text{O}_2 \\]\n",
      "\n",
      "In this equation, carbon dioxide (CO₂) and water (H₂O) are converted into glucose (C₆H₁₂O₆) and oxygen (O₂). The process occurs primarily in the chloroplasts of plant cells, where chlorophyll, the green pigment, captures light energy. Photosynthesis is crucial for life on Earth as it provides the oxygen we breathe and is the foundation of the food chain.\n",
      "--------------------------------------------------\n"
     ]
    },
    {
     "data": {
      "text/plain": [
       "'Photosynthesis is a biochemical process used by green plants, algae, and some bacteria to convert light energy, usually from the sun, into chemical energy stored in glucose. During photosynthesis, these organisms capture carbon dioxide from the atmosphere and water from the soil. Using sunlight as an energy source, they transform these substrates into glucose and oxygen through a series of reactions. \\n\\nThe overall simplified equation for photosynthesis can be represented as:\\n\\n\\\\[ 6 \\\\text{CO}_2 + 6 \\\\text{H}_2\\\\text{O} + \\\\text{light energy} \\\\rightarrow \\\\text{C}_6\\\\text{H}_{12}\\\\text{O}_6 + 6 \\\\text{O}_2 \\\\]\\n\\nIn this equation, carbon dioxide (CO₂) and water (H₂O) are converted into glucose (C₆H₁₂O₆) and oxygen (O₂). The process occurs primarily in the chloroplasts of plant cells, where chlorophyll, the green pigment, captures light energy. Photosynthesis is crucial for life on Earth as it provides the oxygen we breathe and is the foundation of the food chain.'"
      ]
     },
     "execution_count": 2,
     "metadata": {},
     "output_type": "execute_result"
    }
   ],
   "source": [
    "qa_prompt = \"\"\"Q: What is photosynthesis?\n",
    "A:\"\"\"\n",
    "\n",
    "get_response(qa_prompt)"
   ]
  },
  {
   "cell_type": "markdown",
   "id": "642577fa-fb90-4b00-98b7-901aed032265",
   "metadata": {},
   "source": [
    "#### 2. Dialogue Format"
   ]
  },
  {
   "cell_type": "code",
   "execution_count": 3,
   "id": "2ecef6eb-d29b-49f5-9699-ebf9ca503193",
   "metadata": {},
   "outputs": [
    {
     "name": "stdout",
     "output_type": "stream",
     "text": [
      "Teacher: A plant needs several key components for photosynthesis to occur. These include:\n",
      "\n",
      "1. **Sunlight**: Plants use light energy, usually from the sun, to drive the photosynthesis process.\n",
      "\n",
      "2. **Water (H2O)**: Plants absorb water through their roots from the soil. This water is crucial for the chemical reactions in photosynthesis.\n",
      "\n",
      "3. **Carbon Dioxide (CO2)**: Plants take in carbon dioxide from the air through tiny openings in their leaves called stomata. This gas is essential for producing glucose.\n",
      "\n",
      "4. **Chlorophyll**: This is the green pigment found in the chloroplasts of plant cells. Chlorophyll captures sunlight and plays a vital role in converting light energy into chemical energy.\n",
      "\n",
      "With these ingredients, plants can convert carbon dioxide and water into glucose (a type of sugar) and oxygen, using sunlight as the energy source. The overall equation for photosynthesis can be summarized as:\n",
      "\n",
      "6 CO2 + 6 H2O + light energy → C6H12O6 + 6 O2\n",
      "\n",
      "This means that six molecules of carbon dioxide and six molecules of water, in the presence of light energy, are transformed into one molecule of glucose and six molecules of oxygen. The oxygen is released into the atmosphere as a byproduct.\n",
      "--------------------------------------------------\n"
     ]
    },
    {
     "data": {
      "text/plain": [
       "'Teacher: A plant needs several key components for photosynthesis to occur. These include:\\n\\n1. **Sunlight**: Plants use light energy, usually from the sun, to drive the photosynthesis process.\\n\\n2. **Water (H2O)**: Plants absorb water through their roots from the soil. This water is crucial for the chemical reactions in photosynthesis.\\n\\n3. **Carbon Dioxide (CO2)**: Plants take in carbon dioxide from the air through tiny openings in their leaves called stomata. This gas is essential for producing glucose.\\n\\n4. **Chlorophyll**: This is the green pigment found in the chloroplasts of plant cells. Chlorophyll captures sunlight and plays a vital role in converting light energy into chemical energy.\\n\\nWith these ingredients, plants can convert carbon dioxide and water into glucose (a type of sugar) and oxygen, using sunlight as the energy source. The overall equation for photosynthesis can be summarized as:\\n\\n6 CO2 + 6 H2O + light energy → C6H12O6 + 6 O2\\n\\nThis means that six molecules of carbon dioxide and six molecules of water, in the presence of light energy, are transformed into one molecule of glucose and six molecules of oxygen. The oxygen is released into the atmosphere as a byproduct.'"
      ]
     },
     "execution_count": 3,
     "metadata": {},
     "output_type": "execute_result"
    }
   ],
   "source": [
    "dialogue_prompt = \"\"\"Student: Can you explain photosynthesis to me?\n",
    "Teacher: Certainly! Photosynthesis is...\n",
    "Student: What does a plant need for photosynthesis?\n",
    "Teacher:\"\"\"\n",
    "\n",
    "get_response(dialogue_prompt)"
   ]
  },
  {
   "cell_type": "markdown",
   "id": "70e8f9ec-0536-48a5-b15e-3691c90b454c",
   "metadata": {},
   "source": [
    "#### 3. Instruction Format"
   ]
  },
  {
   "cell_type": "code",
   "execution_count": 4,
   "id": "7af4a6e6-05cf-45f5-8a49-5166d0ac128e",
   "metadata": {},
   "outputs": [
    {
     "name": "stdout",
     "output_type": "stream",
     "text": [
      "Photosynthesis is a biochemical process by which green plants, algae, and some bacteria convert light energy, usually from the sun, into chemical energy stored in glucose. This process occurs primarily in the chloroplasts of plant cells and involves two main stages: the light-dependent reactions and the light-independent reactions (Calvin cycle).\n",
      "\n",
      "### Main Components of Photosynthesis:\n",
      "\n",
      "1. **Chlorophyll**: The green pigment in chloroplasts that captures light energy.\n",
      "2. **Sunlight**: The primary energy source for the process.\n",
      "3. **Water (H₂O)**: Absorbed by roots and transported to leaves, it is split during the light reactions.\n",
      "4. **Carbon Dioxide (CO₂)**: Taken from the atmosphere through stomata in leaves, it is used in the Calvin cycle.\n",
      "5. **Glucose (C₆H₁₂O₆)**: The sugar produced as a result of photosynthesis, serving as an energy source for plants and other organisms.\n",
      "6. **Oxygen (O₂)**: A byproduct of the light-dependent reactions, released into the atmosphere.\n",
      "\n",
      "### Importance of Photosynthesis:\n",
      "\n",
      "1. **Energy Production**: Photosynthesis is the foundation of the food chain, providing energy for plants, which are primary producers, and for herbivores and carnivores that consume them.\n",
      "2. **Oxygen Generation**: It is the primary source of atmospheric oxygen, essential for the survival of most living organisms.\n",
      "3. **Carbon Dioxide Reduction**: It helps regulate atmospheric CO₂ levels, contributing to climate stability.\n",
      "4. **Ecosystem Support**: It maintains the balance of ecosystems by supporting plant growth and providing food and habitat for various organisms.\n",
      "\n",
      "In summary, photosynthesis is vital for life on Earth, enabling energy flow and supporting the biosphere's fundamental processes.\n",
      "--------------------------------------------------\n"
     ]
    },
    {
     "data": {
      "text/plain": [
       "\"Photosynthesis is a biochemical process by which green plants, algae, and some bacteria convert light energy, usually from the sun, into chemical energy stored in glucose. This process occurs primarily in the chloroplasts of plant cells and involves two main stages: the light-dependent reactions and the light-independent reactions (Calvin cycle).\\n\\n### Main Components of Photosynthesis:\\n\\n1. **Chlorophyll**: The green pigment in chloroplasts that captures light energy.\\n2. **Sunlight**: The primary energy source for the process.\\n3. **Water (H₂O)**: Absorbed by roots and transported to leaves, it is split during the light reactions.\\n4. **Carbon Dioxide (CO₂)**: Taken from the atmosphere through stomata in leaves, it is used in the Calvin cycle.\\n5. **Glucose (C₆H₁₂O₆)**: The sugar produced as a result of photosynthesis, serving as an energy source for plants and other organisms.\\n6. **Oxygen (O₂)**: A byproduct of the light-dependent reactions, released into the atmosphere.\\n\\n### Importance of Photosynthesis:\\n\\n1. **Energy Production**: Photosynthesis is the foundation of the food chain, providing energy for plants, which are primary producers, and for herbivores and carnivores that consume them.\\n2. **Oxygen Generation**: It is the primary source of atmospheric oxygen, essential for the survival of most living organisms.\\n3. **Carbon Dioxide Reduction**: It helps regulate atmospheric CO₂ levels, contributing to climate stability.\\n4. **Ecosystem Support**: It maintains the balance of ecosystems by supporting plant growth and providing food and habitat for various organisms.\\n\\nIn summary, photosynthesis is vital for life on Earth, enabling energy flow and supporting the biosphere's fundamental processes.\""
      ]
     },
     "execution_count": 4,
     "metadata": {},
     "output_type": "execute_result"
    }
   ],
   "source": [
    "instruction_prompt = \"\"\"Provide a brief explanation of photosynthesis, including its main components and importance.\"\"\"\n",
    "\n",
    "get_response(instruction_prompt)"
   ]
  },
  {
   "cell_type": "markdown",
   "id": "68177ab8-3499-4635-937e-058355f60eff",
   "metadata": {},
   "source": [
    "### Impact of Structural Elements"
   ]
  },
  {
   "cell_type": "code",
   "execution_count": null,
   "id": "6d908b42-f3a5-4963-b779-753ebea9dde3",
   "metadata": {},
   "outputs": [],
   "source": []
  },
  {
   "cell_type": "code",
   "execution_count": 5,
   "id": "f168ccc3-1c8c-4c2c-92af-f955b5f64c41",
   "metadata": {},
   "outputs": [
    {
     "name": "stdout",
     "output_type": "stream",
     "text": [
      "# Definition\n",
      "Photosynthesis is the biochemical process by which green plants, algae, and some bacteria convert light energy, usually from the Sun, into chemical energy stored in glucose (a type of sugar). This process involves the transformation of carbon dioxide (CO₂) and water (H₂O) into oxygen (O₂) and glucose, using light energy captured by chlorophyll, the green pigment found in the chloroplasts of plant cells.\n",
      "\n",
      "# Process\n",
      "Photosynthesis occurs in two main stages: the light-dependent reactions and the light-independent reactions (or Calvin cycle).\n",
      "\n",
      "1. **Light-Dependent Reactions**:\n",
      "   - These reactions take place in the thylakoid membranes of the chloroplasts.\n",
      "   - When sunlight strikes chlorophyll, it excites electrons, leading to the splitting of water molecules (photolysis) to release oxygen.\n",
      "   - The energy from the excited electrons is used to create ATP (adenosine triphosphate) and NADPH (nicotinamide adenine dinucleotide phosphate), both of which are energy carriers.\n",
      "\n",
      "2. **Light-Independent Reactions (Calvin Cycle)**:\n",
      "   - These reactions occur in the stroma of the chloroplasts and do not directly require light.\n",
      "   - ATP and NADPH produced in the light-dependent reactions are used to convert carbon dioxide from the atmosphere into glucose through a series of enzyme-driven steps.\n",
      "   - The cycle involves carbon fixation, reduction of 3-phosphoglycerate to glyceraldehyde-3-phosphate (G3P), and regeneration of ribulose bisphosphate (RuBP), which allows the cycle to continue.\n",
      "\n",
      "# Importance\n",
      "Photosynthesis is crucial for life on Earth for several reasons:\n",
      "\n",
      "1. **Oxygen Production**: It releases oxygen as a byproduct, which is essential for the survival of aerobic organisms, including humans.\n",
      "2. **Energy Source**: It is the foundation of the food chain; plants produce glucose, which serves as an energy source for herbivores, which in turn feed carnivores.\n",
      "3. **Carbon Dioxide Reduction**: Photosynthesis helps to regulate atmospheric CO₂ levels, mitigating climate change by acting as a carbon sink.\n",
      "4. **Biodiversity**: It supports ecosystems by providing food and habitat for a vast array of organisms, contributing to biodiversity.\n",
      "\n",
      "In conclusion, photosynthesis not only fuels the energy needs of plants but also sustains life on Earth by producing oxygen and contributing to ecological balance.\n",
      "--------------------------------------------------\n"
     ]
    },
    {
     "data": {
      "text/plain": [
       "'# Definition\\nPhotosynthesis is the biochemical process by which green plants, algae, and some bacteria convert light energy, usually from the Sun, into chemical energy stored in glucose (a type of sugar). This process involves the transformation of carbon dioxide (CO₂) and water (H₂O) into oxygen (O₂) and glucose, using light energy captured by chlorophyll, the green pigment found in the chloroplasts of plant cells.\\n\\n# Process\\nPhotosynthesis occurs in two main stages: the light-dependent reactions and the light-independent reactions (or Calvin cycle).\\n\\n1. **Light-Dependent Reactions**:\\n   - These reactions take place in the thylakoid membranes of the chloroplasts.\\n   - When sunlight strikes chlorophyll, it excites electrons, leading to the splitting of water molecules (photolysis) to release oxygen.\\n   - The energy from the excited electrons is used to create ATP (adenosine triphosphate) and NADPH (nicotinamide adenine dinucleotide phosphate), both of which are energy carriers.\\n\\n2. **Light-Independent Reactions (Calvin Cycle)**:\\n   - These reactions occur in the stroma of the chloroplasts and do not directly require light.\\n   - ATP and NADPH produced in the light-dependent reactions are used to convert carbon dioxide from the atmosphere into glucose through a series of enzyme-driven steps.\\n   - The cycle involves carbon fixation, reduction of 3-phosphoglycerate to glyceraldehyde-3-phosphate (G3P), and regeneration of ribulose bisphosphate (RuBP), which allows the cycle to continue.\\n\\n# Importance\\nPhotosynthesis is crucial for life on Earth for several reasons:\\n\\n1. **Oxygen Production**: It releases oxygen as a byproduct, which is essential for the survival of aerobic organisms, including humans.\\n2. **Energy Source**: It is the foundation of the food chain; plants produce glucose, which serves as an energy source for herbivores, which in turn feed carnivores.\\n3. **Carbon Dioxide Reduction**: Photosynthesis helps to regulate atmospheric CO₂ levels, mitigating climate change by acting as a carbon sink.\\n4. **Biodiversity**: It supports ecosystems by providing food and habitat for a vast array of organisms, contributing to biodiversity.\\n\\nIn conclusion, photosynthesis not only fuels the energy needs of plants but also sustains life on Earth by producing oxygen and contributing to ecological balance.'"
      ]
     },
     "execution_count": 5,
     "metadata": {},
     "output_type": "execute_result"
    }
   ],
   "source": [
    "headings_prompt = \"\"\"Explain photosynthesis using the following structure:\n",
    "\n",
    "# Definition\n",
    "\n",
    "# Process\n",
    "\n",
    "# Importance\n",
    "\"\"\"\n",
    "\n",
    "get_response(headings_prompt)"
   ]
  },
  {
   "cell_type": "code",
   "execution_count": 6,
   "id": "3b28c73c-332d-4bec-a901-4d54ece62918",
   "metadata": {},
   "outputs": [
    {
     "name": "stdout",
     "output_type": "stream",
     "text": [
      "The key components needed for photosynthesis are:\n",
      "\n",
      "• **Chlorophyll** (the green pigment in plants that captures light energy)\n",
      "• **Sunlight** (solar energy)\n",
      "• **Carbon Dioxide** (CO₂, absorbed from the atmosphere)\n",
      "• **Water** (H₂O, absorbed from the soil)\n",
      "\n",
      "These components work together to convert light energy into chemical energy in the form of glucose, along with oxygen as a byproduct.\n",
      "--------------------------------------------------\n"
     ]
    },
    {
     "data": {
      "text/plain": [
       "'The key components needed for photosynthesis are:\\n\\n• **Chlorophyll** (the green pigment in plants that captures light energy)\\n• **Sunlight** (solar energy)\\n• **Carbon Dioxide** (CO₂, absorbed from the atmosphere)\\n• **Water** (H₂O, absorbed from the soil)\\n\\nThese components work together to convert light energy into chemical energy in the form of glucose, along with oxygen as a byproduct.'"
      ]
     },
     "execution_count": 6,
     "metadata": {},
     "output_type": "execute_result"
    }
   ],
   "source": [
    "bullet_points_prompt = \"\"\"List the key components needed for photosynthesis:\n",
    "\n",
    "• \n",
    "• \n",
    "• \n",
    "\"\"\"\n",
    "\n",
    "get_response(bullet_points_prompt)"
   ]
  },
  {
   "cell_type": "code",
   "execution_count": 7,
   "id": "a3369e46-2989-40d4-8474-1c51665534e7",
   "metadata": {},
   "outputs": [
    {
     "name": "stdout",
     "output_type": "stream",
     "text": [
      "Photosynthesis occurs primarily in plants, algae, and some bacteria. The process consists of two main stages: the light-dependent reactions and the light-independent reactions (Calvin cycle). Here are the steps in order:\n",
      "\n",
      "1. **Absorption of Light Energy**: Chlorophyll and other pigments in the chloroplasts absorb sunlight, capturing energy from light.\n",
      "\n",
      "2. **Water Splitting (Photolysis)**: In the thylakoid membranes, the absorbed light energy is used to split water molecules (H₂O) into oxygen (O₂), protons (H⁺), and electrons. Oxygen is released as a byproduct.\n",
      "\n",
      "3. **Electron Transport Chain (ETC)**: The energized electrons move through a series of proteins in the thylakoid membrane, known as the electron transport chain. This movement helps pump protons into the thylakoid lumen, creating a proton gradient.\n",
      "\n",
      "4. **ATP and NADPH Formation**: The proton gradient drives ATP synthesis through ATP synthase during chemiosmosis (producing ATP). Meanwhile, the electrons ultimately reduce NADP⁺ to form NADPH. Both ATP and NADPH are then used in the Calvin cycle.\n",
      "\n",
      "5. **Calvin Cycle (Light-Independent Reactions)**: In the stroma, ATP and NADPH from the light-dependent reactions are used to convert carbon dioxide (CO₂) into glucose (C₆H₁₂O₆) through a series of reactions.\n",
      "\n",
      "These steps summarize the process of photosynthesis, transforming light energy into chemical energy stored in glucose.\n",
      "--------------------------------------------------\n"
     ]
    },
    {
     "data": {
      "text/plain": [
       "'Photosynthesis occurs primarily in plants, algae, and some bacteria. The process consists of two main stages: the light-dependent reactions and the light-independent reactions (Calvin cycle). Here are the steps in order:\\n\\n1. **Absorption of Light Energy**: Chlorophyll and other pigments in the chloroplasts absorb sunlight, capturing energy from light.\\n\\n2. **Water Splitting (Photolysis)**: In the thylakoid membranes, the absorbed light energy is used to split water molecules (H₂O) into oxygen (O₂), protons (H⁺), and electrons. Oxygen is released as a byproduct.\\n\\n3. **Electron Transport Chain (ETC)**: The energized electrons move through a series of proteins in the thylakoid membrane, known as the electron transport chain. This movement helps pump protons into the thylakoid lumen, creating a proton gradient.\\n\\n4. **ATP and NADPH Formation**: The proton gradient drives ATP synthesis through ATP synthase during chemiosmosis (producing ATP). Meanwhile, the electrons ultimately reduce NADP⁺ to form NADPH. Both ATP and NADPH are then used in the Calvin cycle.\\n\\n5. **Calvin Cycle (Light-Independent Reactions)**: In the stroma, ATP and NADPH from the light-dependent reactions are used to convert carbon dioxide (CO₂) into glucose (C₆H₁₂O₆) through a series of reactions.\\n\\nThese steps summarize the process of photosynthesis, transforming light energy into chemical energy stored in glucose.'"
      ]
     },
     "execution_count": 7,
     "metadata": {},
     "output_type": "execute_result"
    }
   ],
   "source": [
    "numbered_list_prompt = \"\"\"Describe the steps of photosynthesis in order:\n",
    "\n",
    "1.\n",
    "2.\n",
    "3.\n",
    "4.\n",
    "\"\"\"\n",
    "\n",
    "get_response(numbered_list_prompt)"
   ]
  },
  {
   "cell_type": "code",
   "execution_count": null,
   "id": "5e618a88-98d0-4754-954b-3125161d3afa",
   "metadata": {},
   "outputs": [],
   "source": []
  }
 ],
 "metadata": {
  "kernelspec": {
   "display_name": "Python 3 (ipykernel)",
   "language": "python",
   "name": "python3"
  },
  "language_info": {
   "codemirror_mode": {
    "name": "ipython",
    "version": 3
   },
   "file_extension": ".py",
   "mimetype": "text/x-python",
   "name": "python",
   "nbconvert_exporter": "python",
   "pygments_lexer": "ipython3",
   "version": "3.12.2"
  }
 },
 "nbformat": 4,
 "nbformat_minor": 5
}

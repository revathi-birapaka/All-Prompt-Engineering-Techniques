{
 "cells": [
  {
   "cell_type": "markdown",
   "id": "e4c4b7d0-7c39-4f6b-9f4c-68c8abf02c45",
   "metadata": {},
   "source": [
    "### Zero-Shot Prompting Tutorial\n",
    "#### Overview\n",
    "This tutorial provides a comprehensive introduction to zero-shot prompting, a powerful technique in prompt engineering that allows language models to perform tasks without specific examples or prior training. We'll explore how to design effective zero-shot prompts and implement strategies using OpenAI's GPT models and the LangChain library.\n",
    "\n",
    "#### Motivation\n",
    "Zero-shot prompting is crucial in modern AI applications as it enables language models to generalize to new tasks without the need for task-specific training data or fine-tuning. This capability significantly enhances the flexibility and applicability of AI systems, allowing them to adapt to a wide range of scenarios and user needs with minimal setup."
   ]
  },
  {
   "cell_type": "code",
   "execution_count": 2,
   "id": "795a0c14-98e5-4812-a13b-7da6d77a6e60",
   "metadata": {},
   "outputs": [],
   "source": [
    "import os\n",
    "from langchain_openai import ChatOpenAI\n",
    "from langchain.prompts import PromptTemplate\n",
    "from langchain.chains import LLMChain\n",
    "from dotenv import load_dotenv\n",
    "\n",
    "# Load environment variables\n",
    "load_dotenv()\n",
    "\n",
    "# Set up OpenAI API key\n",
    "os.environ[\"OPENAI_API_KEY\"] = os.getenv('OPENAI_API_KEY')\n",
    "\n",
    "# Initialize the language model\n",
    "llm = ChatOpenAI(model=\"gpt-4o-mini\")\n",
    "\n",
    "\n",
    "def create_chain(prompt_template):\n",
    "    \"\"\"\n",
    "    Create a LangChain chain with the given prompt template.\n",
    "    \n",
    "    Args:\n",
    "        prompt_template (str): The prompt template string.\n",
    "    \n",
    "    Returns:\n",
    "        LLMChain: A LangChain chain object.\n",
    "    \"\"\"\n",
    "    prompt = PromptTemplate.from_template(prompt_template)\n",
    "    return prompt | llm"
   ]
  },
  {
   "cell_type": "markdown",
   "id": "69b2f25c-54a4-4c8d-9d15-a6f4f4f0b77a",
   "metadata": {},
   "source": [
    "### Method Details\n",
    "The tutorial will cover several methods for implementing zero-shot prompting:\n",
    "\n",
    "**Direct Task Specification**: Crafting prompts that clearly define the task without examples.\n",
    "\n",
    "**Role-Based Prompting**: Assigning specific roles to the AI to guide its responses.\n",
    "\n",
    "**Format Specification**: Providing output format guidelines in the prompt.\n",
    "\n",
    "**Multi-step Reasoning**: Breaking down complex tasks into simpler zero-shot steps.\n",
    "\n",
    "**Comparative Analysis**: Evaluating different zero-shot prompt structures for the same task.\n",
    "\n",
    "Throughout the tutorial, we'll use Python code with OpenAI and LangChain to demonstrate these techniques practically."
   ]
  },
  {
   "cell_type": "code",
   "execution_count": 3,
   "id": "6b421931-103d-41b9-8fc1-a3432a31cab0",
   "metadata": {},
   "outputs": [
    {
     "name": "stdout",
     "output_type": "stream",
     "text": [
      "Text: I absolutely loved the movie! The acting was superb.\n",
      "Sentiment: Positive\n",
      "Text: The weather today is quite typical for this time of year.\n",
      "Sentiment: Neutral\n",
      "Text: I'm disappointed with the service I received at the restaurant.\n",
      "Sentiment: Negative\n"
     ]
    }
   ],
   "source": [
    "direct_task_prompt = \"\"\"Classify the sentiment of the following text as positive, negative, or neutral.\n",
    "Do not explain your reasoning, just provide the classification.\n",
    "\n",
    "Text: {text}\n",
    "\n",
    "Sentiment:\"\"\"\n",
    "\n",
    "direct_task_chain = create_chain(direct_task_prompt)\n",
    "\n",
    "# Test the direct task specification\n",
    "texts = [\n",
    "    \"I absolutely loved the movie! The acting was superb.\",\n",
    "    \"The weather today is quite typical for this time of year.\",\n",
    "    \"I'm disappointed with the service I received at the restaurant.\"\n",
    "]\n",
    "\n",
    "for text in texts:\n",
    "    result = direct_task_chain.invoke({\"text\": text}).content\n",
    "    print(f\"Text: {text}\")\n",
    "    print(f\"Sentiment: {result}\")"
   ]
  },
  {
   "cell_type": "code",
   "execution_count": 4,
   "id": "1b020bf0-6c0f-4a70-a56f-523a278efeae",
   "metadata": {},
   "outputs": [
    {
     "name": "stdout",
     "output_type": "stream",
     "text": [
      "**Headline:** Scientists Discover New Earth-Like Exoplanet, Expanding Search for Life Beyond Our Solar System\n",
      "\n",
      "**Lead:** In a groundbreaking discovery, astronomers have identified a new Earth-like exoplanet located in the habitable zone of its star, approximately 150 light-years away. This exciting find raises new possibilities for the existence of alien life and the potential for future exploration beyond our solar system.\n",
      "\n",
      "**Body:** Named Kepler-452d, the newly discovered exoplanet is roughly 1.6 times the size of Earth and orbits a sun-like star in a region where conditions could allow for liquid water to exist. Researchers from the Intergalactic Space Observatory (ISO) employed advanced telescopic technology to analyze the planet’s atmosphere, revealing the potential presence of vital elements such as carbon and nitrogen. The findings suggest that Kepler-452d could support an environment akin to Earth, sparking both curiosity and optimism in the scientific community.\n",
      "\n",
      "Further studies will focus on deciphering the planet's atmospheric composition and climate patterns, which are crucial for assessing its habitability. The discovery not only exemplifies the progress of modern astronomy but also prompts further investigation into the frequency of Earth-like planets in the universe. With advancements in telescope technology and space missions on the horizon, the quest for understanding our cosmic neighbors is more promising than ever.\n",
      "\n",
      "**Conclusion:** As humanity continues to explore the stars, discoveries like Kepler-452d remind us of the endless possibilities that await us beyond our home planet, igniting hope for the future of space exploration and the search for extraterrestrial life.\n"
     ]
    }
   ],
   "source": [
    "format_spec_prompt = \"\"\"Generate a short news article about {topic}. \n",
    "Structure your response in the following format:\n",
    "\n",
    "Headline: [A catchy headline for the article]\n",
    "\n",
    "Lead: [A brief introductory paragraph summarizing the key points]\n",
    "\n",
    "Body: [2-3 short paragraphs providing more details]\n",
    "\n",
    "Conclusion: [A concluding sentence or call to action]\"\"\"\n",
    "\n",
    "format_spec_chain = create_chain(format_spec_prompt)\n",
    "\n",
    "# Test the format specification prompting\n",
    "topic = \"The discovery of a new earth-like exoplanet\"\n",
    "result = format_spec_chain.invoke({\"topic\": topic}).content\n",
    "print(result)"
   ]
  },
  {
   "cell_type": "code",
   "execution_count": 5,
   "id": "dd17f0a8-aab5-4f85-bf08-f67ac6277abf",
   "metadata": {},
   "outputs": [
    {
     "name": "stdout",
     "output_type": "stream",
     "text": [
      "1. **Main Argument:**  \n",
      "The primary claim of the text is that while electric vehicles (EVs) are often promoted as a solution to climate change, their environmental impact is complex and not necessarily beneficial when considering factors such as battery production and the source of electricity used for charging.\n",
      "\n",
      "2. **Supporting Evidence:**\n",
      "   - **Battery Production Impact:** The mining operations required for battery production can cause habitat destruction and water pollution.\n",
      "   - **Source of Electricity:** If the electricity used to charge electric vehicles comes from fossil fuel sources, their overall carbon footprint may not significantly decrease, challenging the effectiveness of EVs in reducing carbon emissions.\n",
      "   - **Future Potential:** The text acknowledges that with advances in renewable energy sources and improvements in battery technology, electric vehicles have the potential to become a more effective solution in the fight against climate change.\n",
      "\n",
      "3. **Potential Counterarguments:**\n",
      "   - **Overall Emission Reductions:** Critics could argue that even with current challenges, electric vehicles still offer a lower lifetime carbon footprint compared to traditional internal combustion engine vehicles, especially as grids become greener.\n",
      "   - **Technological Advancements:** Some may contend that ongoing innovations in battery recycling, alternative materials, and renewable energy generation could mitigate the negative impacts associated with battery production and sourcing electricity.\n",
      "   - **Broader Ecological Benefits:** Proponents of electric vehicles might emphasize that transitioning to EVs contributes to reducing air pollution in urban areas and decreasing reliance on fossil fuels, which can have immediate public health benefits, alongside long-term climate goals.\n"
     ]
    }
   ],
   "source": [
    "multi_step_prompt = \"\"\"Analyze the following text for its main argument, supporting evidence, and potential counterarguments. \n",
    "Provide your analysis in the following steps:\n",
    "\n",
    "1. Main Argument: Identify and state the primary claim or thesis.\n",
    "2. Supporting Evidence: List the key points or evidence used to support the main argument.\n",
    "3. Potential Counterarguments: Suggest possible objections or alternative viewpoints to the main argument.\n",
    "\n",
    "Text: {text}\n",
    "\n",
    "Analysis:\"\"\"\n",
    "\n",
    "multi_step_chain = create_chain(multi_step_prompt)\n",
    "\n",
    "# Test the multi-step reasoning approach\n",
    "text = \"\"\"While electric vehicles are often touted as a solution to climate change, their environmental impact is not as straightforward as it seems. \n",
    "The production of batteries for electric cars requires significant mining operations, which can lead to habitat destruction and water pollution. \n",
    "Moreover, if the electricity used to charge these vehicles comes from fossil fuel sources, the overall carbon footprint may not be significantly reduced. \n",
    "However, as renewable energy sources become more prevalent and battery technology improves, electric vehicles could indeed play a crucial role in combating climate change.\"\"\"\n",
    "\n",
    "result = multi_step_chain.invoke({\"text\": text}).content\n",
    "print(result)"
   ]
  },
  {
   "cell_type": "code",
   "execution_count": 6,
   "id": "7f581304-edbd-4c4f-bc53-20d8ec37c6a8",
   "metadata": {},
   "outputs": [
    {
     "name": "stdout",
     "output_type": "stream",
     "text": [
      "Task: Explain concisely the concept of blockchain technology\n",
      "\n",
      "Basic Prompt Result:\n",
      "Blockchain technology is a decentralized, distributed ledger system that records transactions across multiple computers in a way that ensures the integrity and security of the data. Each transaction is grouped into a block and linked to the previous block, forming a chronological chain. This chain is immutable, meaning once data is recorded, it cannot be easily altered. Blockchain utilizes cryptographic techniques to ensure trust, transparency, and consensus among participants, making it a foundational technology for cryptocurrencies and various applications in sectors such as finance, supply chain, and healthcare.\n",
      "\n",
      "--------------------------------------------------\n",
      "\n",
      "Structured Prompt Result:\n",
      "### 1. Definition\n",
      "Blockchain technology is a decentralized digital ledger system that securely records transactions across multiple computers in a way that prevents alteration. Each transaction is grouped into a block, which is linked chronologically to the previous block, forming a chain of records.\n",
      "\n",
      "### 2. Key Features\n",
      "- **Decentralization**: No single entity controls the blockchain; it is distributed across a network of nodes.\n",
      "- **Immutability**: Once recorded, data cannot be easily altered or deleted, enhancing trust and security.\n",
      "- **Transparency**: All transactions are visible to participants in the network, promoting accountability.\n",
      "- **Consensus Mechanisms**: Transactions are validated by network participants through consensus protocols (e.g., Proof of Work, Proof of Stake).\n",
      "- **Smart Contracts**: Self-executing contracts with the terms directly written into code, allowing automated transactions.\n",
      "\n",
      "### 3. Real-world Applications\n",
      "- **Cryptocurrencies**: Digital currencies like Bitcoin and Ethereum that use blockchain for secure transactions.\n",
      "- **Supply Chain Management**: Tracking the provenance and movement of goods to enhance transparency and reduce fraud.\n",
      "- **Finance**: Decentralized finance (DeFi) applications for lending, borrowing, and trading without intermediaries.\n",
      "- **Healthcare**: Secure sharing of patient records among healthcare providers while maintaining privacy.\n",
      "- **Voting Systems**: Ensuring secure and tamper-proof elections through transparent voting processes.\n",
      "\n",
      "### 4. Potential Impact on Industries\n",
      "- **Finance**: Streamlining processes, reducing costs, and increasing access to financial services through smart contracts and decentralized platforms.\n",
      "- **Logistics**: Enhancing traceability and efficiency in supply chains, minimizing delays and discrepancies.\n",
      "- **Real Estate**: Simplifying property transactions and title transfers through blockchain records, reducing fraud.\n",
      "- **Healthcare**: Transforming patient data management and sharing, improving care while ensuring privacy.\n",
      "- **Governance**: Increasing transparency and reducing corruption in public services through accountable and verifiable systems.\n",
      "\n",
      "--------------------------------------------------\n",
      "\n"
     ]
    }
   ],
   "source": [
    "def compare_prompts(task, prompt_templates):\n",
    "    \"\"\"\n",
    "    Compare different prompt templates for the same task.\n",
    "    \n",
    "    Args:\n",
    "        task (str): The task description or input.\n",
    "        prompt_templates (dict): A dictionary of prompt templates with their names as keys.\n",
    "    \"\"\"\n",
    "    print(f\"Task: {task}\\n\")\n",
    "    for name, template in prompt_templates.items():\n",
    "        chain = create_chain(template)\n",
    "        result = chain.invoke({\"task\": task}).content\n",
    "        print(f\"{name} Prompt Result:\")\n",
    "        print(result)\n",
    "        print(\"\\n\" + \"-\"*50 + \"\\n\")\n",
    "\n",
    "task = \"Explain concisely the concept of blockchain technology\"\n",
    "\n",
    "prompt_templates = {\n",
    "    \"Basic\": \"Explain {task}.\",\n",
    "    \"Structured\": \"\"\"Explain {task} by addressing the following points:\n",
    "1. Definition\n",
    "2. Key features\n",
    "3. Real-world applications\n",
    "4. Potential impact on industries\"\"\"\n",
    "}\n",
    "\n",
    "compare_prompts(task, prompt_templates)"
   ]
  },
  {
   "cell_type": "code",
   "execution_count": null,
   "id": "ce298916-aae2-4b17-aa44-55e9302d0f79",
   "metadata": {},
   "outputs": [],
   "source": []
  }
 ],
 "metadata": {
  "kernelspec": {
   "display_name": "Python 3 (ipykernel)",
   "language": "python",
   "name": "python3"
  },
  "language_info": {
   "codemirror_mode": {
    "name": "ipython",
    "version": 3
   },
   "file_extension": ".py",
   "mimetype": "text/x-python",
   "name": "python",
   "nbconvert_exporter": "python",
   "pygments_lexer": "ipython3",
   "version": "3.12.2"
  }
 },
 "nbformat": 4,
 "nbformat_minor": 5
}
